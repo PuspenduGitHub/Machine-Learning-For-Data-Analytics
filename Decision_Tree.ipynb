{
  "nbformat": 4,
  "nbformat_minor": 0,
  "metadata": {
    "colab": {
      "provenance": [],
      "authorship_tag": "ABX9TyPIsGU/fBvTpuFIqngwnqKo"
    },
    "kernelspec": {
      "name": "python3",
      "display_name": "Python 3"
    },
    "language_info": {
      "name": "python"
    }
  },
  "cells": [
    {
      "cell_type": "markdown",
      "source": [
        "# **Assignment - Decision Tree**\n",
        "##**Theoretical**\n",
        "\n",
        "# **Q1. What is a Decision Tree, and how does it work?**\n",
        "\n",
        "**ANS:** A Decision Tree is a supervised machine learning algorithm used for both classification and regression tasks. It works by splitting a dataset into smaller subsets based on feature values, gradually forming a tree-like model of decisions.\n",
        "\n",
        "---\n",
        "\n",
        "### **Basic Components:**\n",
        "\n",
        "### **A decision tree is a flowchart-like structure where:**\n",
        "\n",
        "* **Root Node** The topmost node representing the input data.\n",
        "\n",
        "* **Internal nodes** represent a feature (attribute) test.\n",
        "\n",
        "* **Branches** represent the outcome of the test.\n",
        "\n",
        "* **Leaf nodes** represent a decision (class label in classification, or a value in regression).\n",
        "\n",
        "It is called a \"tree\" because it starts with a **root node** (the entire dataset) and branches out into multiple decision paths.\n",
        "\n",
        "---\n",
        "\n",
        "## **How does it work?**\n",
        "\n",
        "1. **Start with the root node (entire dataset).**\n",
        "\n",
        "2. **Select the best feature** to split the data (using impurity measures like Gini Index, Entropy, or Variance Reduction).\n",
        "\n",
        "3. **Split the dataset** into subsets based on the chosen feature’s values.\n",
        "\n",
        "4. **Repeat recursively** on each subset until one of the stopping conditions is met:\n",
        "\n",
        "    * All samples in a node belong to the same class.\n",
        "\n",
        "    * No further improvement in splitting (minimum impurity gain).\n",
        "\n",
        "    * The maximum depth of the tree is reached.\n",
        "\n",
        "The final nodes (leaves) give the **predicted outcome.**\n",
        "\n",
        "---\n",
        "\n",
        "##**Example (Classification)**\n",
        "\n",
        "Suppose you want to decide whether to play tennis:\n",
        "\n",
        "* Root node: Weather\n",
        "\n",
        "  * If *Sunny* → *check Humidity*\n",
        "\n",
        "    * If *High* → **Don’t Play**\n",
        "\n",
        "    * If *Normal* → **Play**\n",
        "\n",
        "  * If *Overcast* → **Play**\n",
        "\n",
        "  * If *Rain* → *check Wind*\n",
        "\n",
        "    * If *Strong* → **Don’t Play**\n",
        "\n",
        "    * If *Weak* → **Play**\n",
        "\n",
        "---\n",
        "\n",
        "##**Advantages**\n",
        "\n",
        "* Easy to understand and interpret.\n",
        "\n",
        "* Requires little data preprocessing.\n",
        "\n",
        "* Handles both numerical and categorical data.\n",
        "\n",
        "##**Disadvantages**\n",
        "\n",
        "* Prone to overfitting (too complex trees).\n",
        "\n",
        "* Small changes in data may change the tree structure (unstable).\n",
        "\n",
        "* Can be biased toward features with many categories."
      ],
      "metadata": {
        "id": "dA5rYQuN5Erp"
      }
    },
    {
      "cell_type": "markdown",
      "source": [
        "# **Q2. What are impurity measures in Decision Trees?**\n",
        "\n",
        "**ANS:**\n",
        "\n",
        "**Impurity Measures in Decision Trees**\n",
        "\n",
        "In a **Decision Tree**, at each split, the algorithm needs to decide which feature (and value) gives the **best separation** of the data.\n",
        "\n",
        "To measure how \"good\" a split is, we use **impurity measures.**\n",
        "They quantify the **homogeneity** (purity) or **heterogeneity** (impurity) of a node.\n",
        "\n",
        "---\n",
        "\n",
        "## **Impurity Measures**\n",
        "\n",
        "1. **Impurity Measures**\n",
        "\n",
        "* Probability that a randomly chosen sample is misclassified if we label it according to the distribution of classes in the node.\n",
        "\n",
        "* Formula:\n",
        "\n",
        "     ![Screenshot 2025-09-01 213747.png](data:image/png;base64,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)\n",
        "\n",
        "  where 𝑝𝑖 = proportion of samples belonging to class 𝑖, and 𝐶 = number of classes.\n",
        "\n",
        "* **Range:** 0 (pure node) to 0.5 (max impurity for binary classes).\n",
        "\n",
        "2. **Entropy (Information Gain)**\n",
        "\n",
        "* Measures the amount of disorder or uncertainty in the data.\n",
        "\n",
        "* Formula:\n",
        "\n",
        "\n",
        "    ![Screenshot 2025-09-01 214433.png](data:image/png;base64,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)\n",
        "\n",
        "\n",
        "* **Range:** 0 (pure node) to 1 (for two equally likely classes).\n",
        "\n",
        "* Used in ID3, C4.5 algorithms.\n"
      ],
      "metadata": {
        "id": "2Zoo6w6bAosk"
      }
    },
    {
      "cell_type": "markdown",
      "source": [
        "3. **Classification Error**\n",
        "\n",
        "* Simple measure of impurity.\n",
        "\n",
        "* Formula:\n",
        "\n",
        "    ![Screenshot 2025-09-01 214752.png](data:image/png;base64,iVBORw0KGgoAAAANSUhEUgAAAMEAAAAkCAYAAAAwy16tAAAAAXNSR0IArs4c6QAAAARnQU1BAACxjwv8YQUAAAAJcEhZcwAADsMAAA7DAcdvqGQAAAm6SURBVHhe7ZxxbBtXHce/Q5UWVL1llfBSNrPyhz0P2i6MugmUzJ6WkQmWdltdWlhCAJe2TEk6tqSIZUOMeBUozaQ0aaWlBUG8CSEbKHFEJrvaFmdSwJnUEcOquIgpHtvkq1bJJ6U6V4705Y871/bZTi5d1mn4PtJJufee73f33vu+3+/97pQbSBImJlXMp/QFJibVhikCk6rHFIFJ1WOKwKTqMUVgUvWYIjCpekwRmFQ9pghMqh5TBCZVjykCk6rHFIFJ1WOKwOT6spSBLGf0pddABvKltbiOKQKT68lSAv597fBLNfqaa6AGqZdacf/JhL5i1awggiRG3DfhppuMHF2I6H9exWTO+zFyVtIXVzEZRA63IrjzJLrv0NddG47H/4RD063Y/7Ksr1odNMJ/hukUgmJvgIq+Tklx6hknxbYBzuvrqozUuXEGhvrocVkphKBzaEHfpHqZ6aF1c//az5F3R9ls8TK8qK8wzgqeQCVzLooEAMeOBpQ4spo6uH/QAcfGOtysr6tCbry9BUeHDsOhr6hqJJx65hQc3QfXvl9u68ChrwfRM3TtYZEhEUy/GgFQh12uTfnC9+KYfS9/WnP7RtTlT6uSurt3YdcjbjhqS5aK6ubtAE6/4UbHwx/FDKnBzkdakPxdAHF9lUEMiCCO2FkAcKFxa740+cdO+M9rJ+sdOPBIfb7yUhyRM1EkLqunmQtRhM5EkSzYzMvxCELTCWSW1IxBYjqE0HQSZff7GVmtPxNBXNK1MGCrargsQ5KSiJ8NIXohAyxlIL0ZKek3tY9CiJ6Xy/Z3RoojcuYUfE+NIHg2Dn2XZ2QJkpQ/5MvqGJWUaUjTESTucKGxnAZ044fLCUTPaPdvkJoGN+qlEMIX9DXGWFkE70QRkQC4GuG4pD5gcvoYuo7Wwb1Da1PXgo6va094OYKug37I53zYfmc7fD/Zg/bgRVyJ+7DV6UMCQOZsF/a/JCN2dDvs3/Ohd187Au9fwdzRrdh+tNCtyZg9vgf2u/cj8D4ALOB48y35jIABW9WENOPDHudWNHna0fviaXQ93IvxhQzwjh8P2u3YPzELf9tO9E7LwJU5DN77OWw9HCkWwt96Ybc34ZT8AA7+eBduOf80nLfej5GCCXbhTCf23OuE3W6H3b4VnRMS8M8BNNntsNvtcN67B76ZfFJgbiYKfLm+NBRamkXvfj/kt0dwz2f3wHe8HTufiOAirmDiwC2457jBEbzdgTuQwLzB5iXoNwl6lKCHQggKq422O9XDukFQPDjGlL4xydQLHvZESUY61c3h4DzJMDuFoLD0MMYUR3f3cCpLhh8TFMLJgUS+veVITLtSmuHHbBRWL8PpAgMhL4Vo5ui7RmxVZu5XTVefx9DxtQHO6S9SCS2R8LFsjLPj9GrPP5XNFc5zYJugEFvYfy7fdO5ZG4XwMpwvohJsoxCCTSdy957i6H2ConGY+qeZH3RSiCYOJ0hmY+zb3MSBt/SpkwUONwrani3tvdRvW9kWVMiZHlqEYNPgfD7xEvJSiFaOFU6yxTTT+suTV21ca3+vKILwAUEhbEWdx5C3+KEW01SyJKkw3N3DcDbXQR4GFkkyzdgLwxx7K00qYXYeCecHJpdxSsc4OjTGeW3CK5NeWoSgJ1ioAJKTXgoh6J00YOvjYrUiUNJMpVLGjg/KzoICwvQWLSa8Okn0GbyFIWeJCEiF6VS6KAuozgF9O5LZeQ67BIVrgGPPNNEbKtfnlSfo1E87Ob6Yu4/iCZ9bfDsjuRJ1vuTFWUhloRlhnd4zFBNH7DUAeACNd+dLk+9cxEMtd2lnCfi+eRquVwbhRg1ahgcBSPC/lgBc3XCtB4BaNBzqRgMAoAUnBgBIfkxfANxdLjXjVNuAg4+rLQAJgZNBZNCCfd+o1cq0Gumi9pcRW58MpNdPwTeR1BdXoAEHhzuQ6/1KbLqtTAC+rqY0u1dCDW68HMGxfcfgj6ew8a4HcPNb+jYa6xzo/v0JRL7QhS4M4t++4rFaCfcvTwDIIDiTAL7YAXfBLcdnpwE4sOlqLsaB7lf+i+7ayjYkKQWs2DNl0KuiiOXeD2gok142PafL/mouWQ1PKhDy5kOhEtTVrDTkUhjYKyhEm7bqG7RVjsVVrL6pFFO61XFZVusJ1hS174pta55AF9KU8wQLL7bSKqxsfSEfmlT0BCSZDrDNZqVFWOmdXJ0nUFHD1+JVfI79tuKQVknnoo1yrGRjeZbdGOfeD9S7yrwfAIClOI4dSeK739dted6YxgRq4N5RshW6yuzrE0CNG+4Kbw8/DQC36tKu7wXgfxmo/dFhfGu9VmbAVjnkZAyxmdUcSXzI95KfAGYx8mQU8vaf4deHHGXGPIqnn4rmT5cSGNk9isa//gsvfRsI7tuPYEkn1WHjJiCRqLBrfTOGMABXQ8EKfn4cAQmo/7nq0ROjvTj2h6dxz5cqJTtkpC8BNSvENRXRq6KQsvsBDSUxzs5tguLRUi9RHKOXQ7cfKEFh+ICF4r7RvCfIpji210Jx3zDnC1aElW19DOQ8wWq901pQ1jMu5wkKY/EYeyy6dtkYe6yaJ1gM0HNA8wfKAscetebtZKfU37qKx4ckY0csZby6inoPQt0gkyTTqrfPjfNigH2D8+rm2dZfPjmRHadXWNgzo68wRhkRLHB0t402i1CzQrrMkM1myZcLi5qdKUJh4FFB8VD5hyZJKgG2CcHWFyu2INNT7Ntmoa3Fy85uL5vrt7BtKMZ0UQcbsHUdWTjtoe1O9ZOJ4r7r45S+8UfAwmmPmrnTbFtsfZx6tY82a/H99L06xb7C+9xgpee0Ou3T0T46N4ir/e7Z3cep2VE2bxC02JzsiSQ42lJwPdGphklahi43L2y7R/NCmvRWyNZp4e3mZjbXN9HT3UnPNiud3eNM5cY5q1BRyKknLNyiD7tznOunTXgZrhguLU8ZEawBFVNZeZQPjMXYygcrxOMGbJmsFoVpfSYqqywTk6/AYoBt5SKKbGEmS7VZdiyzYXq1tLiyWNpg/rktZSMSo3w0IjAx0TH37BZantD5w3P9tAlB72RxsR4l2KaGxrnQqJDsHPs3F7//WC3LboxNTNaKu3qfx96JQfi1780ysoTonwOQ4MDnP1P8mUUJtTejdl0SgV/8A+4fFidA5L/0w7/jeRwuSOGvlhto/ldqk+vFhRHc/xhwMrwXyed9CBV8gOn4ziC6v1qaj8qRkWVgfW1xBkgOov0rUXT8/QRaKr8+WBFTBCbXFfkNH56cfgi/6bmGl1pFJHDqoB+OY0fh/hACgCkCExMjX5GamPyfY4rApOoxRWBS9fwPfbKr64HdylYAAAAASUVORK5CYII=)\n",
        "\n",
        "* Less sensitive than Gini or Entropy, so it’s less commonly used in practice."
      ],
      "metadata": {
        "id": "4-qd-_n8D4Hg"
      }
    },
    {
      "cell_type": "markdown",
      "source": [
        "4. **Variance Reduction (for Regression Trees)**\n",
        "\n",
        "* For regression problems, impurity is measured by variance instead of class probabilities.\n",
        "\n",
        "* Formula:\n",
        "\n",
        "    ![Screenshot 2025-09-01 215000.png](data:image/png;base64,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)\n",
        "\n",
        "* A good split reduces variance significantly.\n"
      ],
      "metadata": {
        "id": "-q9o7fatEt0C"
      }
    },
    {
      "cell_type": "markdown",
      "source": [
        "## **Intuition**\n",
        "\n",
        "* If all samples in a node belong to the same class → **Impurity = 0 (pure node)**.\n",
        "\n",
        "* If samples are evenly split among classes → **Impurity is maximum**.\n",
        "\n",
        "* The decision tree algorithm chooses the split that **maximizes the reduction in impurity** (called Information **Gain** or **Gini Gain**)."
      ],
      "metadata": {
        "id": "cocx3FJBFIj6"
      }
    },
    {
      "cell_type": "markdown",
      "source": [
        "# **Q3. What is the mathematical formula for Gini Impurity?**\n",
        "\n",
        "**ANS:**\n",
        "\n",
        "The **mathematical formula for Gini Impurity** is:\n",
        "\n",
        "  ![Screenshot 2025-09-01 215442.png](data:image/png;base64,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)"
      ],
      "metadata": {
        "id": "rphWeWrgFoVm"
      }
    },
    {
      "cell_type": "markdown",
      "source": [
        "## **Where:**\n",
        "\n",
        "* 𝑆 = a node (set of samples).\n",
        "\n",
        "* 𝐶 = total number of classes.\n",
        "\n",
        "* 𝑝𝑖 = proportion (probability) of samples belonging to class 𝑖 in node 𝑆.\n",
        "\n",
        "ntuition\n",
        "\n",
        "If a node is pure (all samples belong to one class), then\n",
        "𝑝𝑖 = 1 for one class and 0 for others:\n",
        "\n",
        "    Gini = 1 - 1^2 = 0\n",
        "\n",
        "→ Minimum impurity.\n",
        "\n",
        "If a node is perfectly mixed (e.g., 50% class A, 50% class B in binary classification):\n",
        "\n",
        "      Gini = 1 - (0.5^2 + 0.5^2) = 0.5\n",
        "\n",
        "→ Maximum impurity in binary case.\n"
      ],
      "metadata": {
        "id": "nV90HEytGLUs"
      }
    },
    {
      "cell_type": "markdown",
      "source": [
        "# **Q4. What is the mathematical formula for Entropy?**\n",
        "\n",
        "**ANS:** The **mathematical formula for Entropy** (used in Decision Trees) is:\n",
        "\n",
        "  ![Screenshot 2025-09-01 220358.png](data:image/png;base64,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)"
      ],
      "metadata": {
        "id": "xwMoLpkAHn31"
      }
    },
    {
      "cell_type": "markdown",
      "source": [
        "##**Where:**\n",
        "\n",
        "* 𝑆 = a node (set of samples).\n",
        "\n",
        "* 𝐶 = number of classes.\n",
        "\n",
        "* 𝑝𝑖 = proportion (probability) of samples belonging to class 𝑖 in node 𝑆.\n",
        "\n",
        "ntuition\n",
        "\n",
        "If the node is pure (all samples in one class, say 𝑝𝑖 = 1):\n",
        "\n",
        "    Entropy=−(1⋅log2​(1))=0\n",
        "\n",
        "→ No uncertainty.\n",
        "\n",
        "If the node is perfectly mixed (e.g., 50% class A, 50% class B):\n",
        "\n",
        "    Entropy=−(0.5log2​(0.5)+0.5log2​(0.5))=1\n",
        "\n",
        "→ Maximum uncertainty (for binary classification)."
      ],
      "metadata": {
        "id": "ZdOUD5klIUlO"
      }
    },
    {
      "cell_type": "markdown",
      "source": [
        "# **Q5. What is Information Gain, and how is it used in Decision Trees?**\n",
        "\n",
        "**ANS:**\n",
        "\n",
        "**Information Gain (IG)** is a metric used in **Decision Trees** to decide which feature to split on at each step.\n",
        "\n",
        "It measures the **reduction in impurity** (uncertainty) after a dataset is split on a feature.\n",
        "\n",
        "**In other words:**\n",
        "\n",
        "* Before splitting, we measure the impurity (usually Entropy or Gini).\n",
        "\n",
        "* After splitting, we measure the weighted average impurity of the child nodes.\n",
        "\n",
        "* Information Gain = **Parent impurity** – **Weighted child impurity**.\n",
        "\n",
        "---\n",
        "\n",
        "## **Mathematical Formula**\n",
        "\n",
        "If we use **Entropy** as the impurity measure:\n",
        "\n",
        "  ![Screenshot 2025-09-01 221311.png](data:image/png;base64,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)"
      ],
      "metadata": {
        "id": "ie96eLKCJJUa"
      }
    },
    {
      "cell_type": "markdown",
      "source": [
        "## **How it is used in Decision Trees**\n",
        "\n",
        "1. **At each node** of the tree:\n",
        "\n",
        "    * Compute Information Gain for all candidate features.\n",
        "\n",
        "2. **Choose the feature with the highest Information Gain** (i.e., the one that best separates the data).\n",
        "\n",
        "3. **Split the dataset** on that feature.\n",
        "\n",
        "4. **Repeat recursively** on child nodes until stopping conditions are met (pure nodes, max depth, etc.).\n",
        "\n",
        "---\n",
        "\n",
        "##**By using Information Gain, Decision Trees can:**\n",
        "\n",
        "* Reduce impurity and uncertainty in the data\n",
        "\n",
        "* Improve the accuracy of predictions\n",
        "\n",
        "* Handle complex relationships between attributes\n",
        "\n",
        "---\n",
        "\n",
        "##**Example (Binary Classification)**\n",
        "\n",
        "Suppose we want to decide whether to play tennis based on \"Outlook\".\n",
        "\n",
        "* Parent entropy (before split): 0.94\n",
        "\n",
        "* Weighted child entropy (after split on Outlook): 0.69\n",
        "\n",
        "* Information Gain = 0.94 – 0.69 = 0.25\n",
        "\n",
        "This means splitting on \"Outlook\" reduces uncertainty by 0.25 bits, making it a good split."
      ],
      "metadata": {
        "id": "PKgBRgMIKXAn"
      }
    },
    {
      "cell_type": "markdown",
      "source": [
        "# **Q6. What is the difference between Gini Impurity and Entropy?**\n",
        "\n",
        "**ANS:**  Gini Impurity and Entropy are two popular measures used to evaluate the impurity or uncertainty of a node in a Decision Tree. While both measures are used to determine the best attribute to split the data, there are key differences between them:\n",
        "\n",
        "---\n",
        "\n",
        "##**1. Mathematical Formula**\n",
        "\n",
        "* **Gini Impurity**\n",
        "\n",
        "  ![Screenshot 2025-09-02 214537.png](data:image/png;base64,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)\n",
        "\n",
        "* **Entropy**\n",
        "\n",
        "  ![Screenshot 2025-09-02 214640.png](data:image/png;base64,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)\n",
        "\n",
        "  ---"
      ],
      "metadata": {
        "id": "NTegZozULHzz"
      }
    },
    {
      "cell_type": "markdown",
      "source": [
        "##**2. Intuition**\n",
        "\n",
        "* **Gini Impurity**\n",
        "\n",
        "  * Measures the probability of misclassifying a randomly chosen sample if labeled randomly according to class distribution.\n",
        "\n",
        "  * Easier to compute (no logarithms).\n",
        "\n",
        "* **Entropy**\n",
        "\n",
        "  * Measures the disorder/uncertainty in the dataset.\n",
        "\n",
        "  * Has its roots in Information Theory (Shannon entropy).\n",
        "\n",
        "---"
      ],
      "metadata": {
        "id": "I_SmYb3jN7d4"
      }
    },
    {
      "cell_type": "markdown",
      "source": [
        "##**3. Range of Values**\n",
        "\n",
        "* **Both range from 0 (pure node) to maximum impurity when classes are evenly distributed.**\n",
        "\n",
        "* For binary classification (two classes):\n",
        "\n",
        "  * **Gini max** = 0.5 (when classes are 50/50).\n",
        "\n",
        "  * **Entropy max** = 1 (when classes are 50/50).\n",
        "\n",
        "---"
      ],
      "metadata": {
        "id": "P54b5iprOgm8"
      }
    },
    {
      "cell_type": "markdown",
      "source": [
        "##**4. Behavior**\n",
        "\n",
        "* **Gini Impurity** tends to be more sensitive to class probabilities, giving purer splits.\n",
        "\n",
        "* **Entropy** grows more slowly near 0 and 1, so it penalizes impure nodes more strongly.\n",
        "\n",
        "---"
      ],
      "metadata": {
        "id": "hKXHvP28PKGt"
      }
    },
    {
      "cell_type": "markdown",
      "source": [
        "##**5. Usage in Algorithms**\n",
        "\n",
        "* CART (Classification and Regression Trees) → uses **Gini Impurity**.\n",
        "\n",
        "* ID3, C4.5, C5.0 → use **Entropy / Information Gain**.\n",
        "\n",
        "---"
      ],
      "metadata": {
        "id": "vQD2bkflPlUR"
      }
    },
    {
      "cell_type": "markdown",
      "source": [
        "##**6. Example (Binary case, p = 0.5 for each class)**\n",
        "\n",
        "![Screenshot 2025-09-02 215709.png](data:image/png;base64,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)"
      ],
      "metadata": {
        "id": "CyOFhd8EPzxk"
      }
    },
    {
      "cell_type": "markdown",
      "source": [
        "# **Q7. What is the mathematical explanation behind Decision Trees?**\n",
        "\n",
        "**ANS:**\n",
        "\n",
        "##**1. The Goal**\n",
        "\n",
        "Decision Trees aim to **partition the dataset** into subsets that are as pure as possible with respect to the target variable (class label in classification, or value homogeneity in regression).\n",
        "\n",
        "Mathematically, this is done by **minimizing impurity** (classification) or **minimizing variance** (regression) at each split.\n",
        "\n",
        "---\n",
        "\n",
        "##**2. Impurity / Homogeneity Measures**\n",
        "\n",
        "At a given node 𝑆 (dataset at that node), impurity can be measured by:\n",
        "\n",
        "* **Gini Impurity:**\n",
        "\n",
        "  ![Screenshot 2025-09-02 222347.png](data:image/png;base64,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)\n",
        "\n",
        "* **Entropy:**\n",
        "\n",
        "  ![Screenshot 2025-09-02 222439.png](data:image/png;base64,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)\n",
        "\n",
        "* **Variance (for regression):**\n",
        "\n",
        "  ![Screenshot 2025-09-02 222546.png](data:image/png;base64,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)\n",
        "\n",
        "Here:\n",
        "\n",
        "* 𝐶 = number of classes.\n",
        "\n",
        "* 𝑝𝑖 = probability (proportion) of class 𝑖 in node 𝑆.\n",
        "\n",
        "* 𝑦ˉ = mean of target values in node 𝑆."
      ],
      "metadata": {
        "id": "Zo54Ip5rQS1C"
      }
    },
    {
      "cell_type": "markdown",
      "source": [
        "##**3. Information Gain (Classification)**\n",
        "\n",
        "When splitting node 𝑆 on feature 𝐴, the Information Gain (IG) is:\n",
        "\n",
        "  ![Screenshot 2025-09-02 223055.png](data:image/png;base64,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)\n",
        "\n",
        "![Screenshot 2025-09-02 223128.png](data:image/png;base64,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)"
      ],
      "metadata": {
        "id": "ZKI_6VHQXfQN"
      }
    },
    {
      "cell_type": "markdown",
      "source": [
        "## **4. Variance Reduction (Regression)**\n",
        "\n",
        "For regression, we pick the split that minimizes variance.\n",
        "\n",
        "  ![Screenshot 2025-09-02 223251.png](data:image/png;base64,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)"
      ],
      "metadata": {
        "id": "9S1yRWiaYI2d"
      }
    },
    {
      "cell_type": "markdown",
      "source": [
        "##**5. Recursive Splitting**\n",
        "\n",
        "* Start with the **root node** (entire dataset).\n",
        "\n",
        "* For each feature, compute IG (or variance reduction).\n",
        "\n",
        "* Choose the best feature and split.\n",
        "\n",
        "* Recurse on child nodes until a stopping condition (pure node, max depth, min samples, etc.)."
      ],
      "metadata": {
        "id": "EADWfpf4Yc3r"
      }
    },
    {
      "cell_type": "markdown",
      "source": [
        "##**6. Prediction**\n",
        "\n",
        "* **Classification:** A new sample follows the decision path, ending in a leaf. The predicted class = majority class in that leaf.\n",
        "\n",
        "* **Regression:** Predicted value = average (mean) of samples in that leaf."
      ],
      "metadata": {
        "id": "vKHxwgXKYquK"
      }
    },
    {
      "cell_type": "markdown",
      "source": [
        "# **Q8. What is Pre-Pruning in Decision Trees?**\n",
        "\n",
        "**ANS:** Pre-Pruning is a technique used in Decision Trees to prevent overfitting by stopping the tree growth early, before it becomes too complex.\n",
        "\n",
        "##**Q8. What is Pre-Pruning ?**\n",
        "\n",
        "**Pre-pruning** (also called early stopping) is a technique used to stop a Decision Tree from growing too deep while it’s being built.\n",
        "\n",
        "Instead of letting the tree fully grow and then cutting it back (post-pruning), we prevent unnecessary splits during construction if they don’t significantly improve the model.\n",
        "\n",
        "---\n",
        "\n",
        "##**Why Pre-Pruning?**\n",
        "\n",
        "Decision Trees tend to overfit if they grow without restriction, capturing noise instead of meaningful patterns.\n",
        "Pre-pruning reduces:\n",
        "\n",
        "* Overfitting\n",
        "\n",
        "* Tree complexity\n",
        "\n",
        "* Training time\n",
        "\n",
        "---\n",
        "\n",
        "##**Common Pre-Pruning Strategies**\n",
        "\n",
        "During tree construction, we **stop splitting** if:\n",
        "\n",
        "**1. Maximum Depth Limit**\n",
        "\n",
        "* Stop if the tree reaches a predefined depth.\n",
        "\n",
        "**2. Minimum Samples per Node (Leaf Size)**\n",
        "\n",
        "* Stop if a node has fewer than a set number of samples.\n",
        "\n",
        "**3. Minimum Information Gain (or Gini/Entropy Reduction)**\n",
        "\n",
        "* Stop if the improvement in impurity after splitting is less than a threshold.\n",
        "\n",
        "**4. Chi-square test for independence**\n",
        "\n",
        "* Stop if the chosen split is not statistically significant.\n",
        "\n",
        "**5. Maximum Number of Leaf Nodes**\n",
        "\n",
        "* Stop once a limit on the number of leaf nodes is reached.\n",
        "\n",
        "---\n",
        "\n",
        "##**Advantages of Pre-Pruning:**\n",
        "\n",
        "Pre-Pruning has several advantages:\n",
        "\n",
        "**1. Reduces Overfitting:** By stopping the tree growth early, Pre-Pruning reduces the risk of overfitting.\n",
        "\n",
        "**2. Improves Generalization:** Pre-Pruning helps improve the generalization of the model by reducing the complexity of the tree.\n",
        "\n",
        "**3. Reduces Computational Cost:** Pre-Pruning reduces the computational cost of training a Decision Tree.\n",
        "\n",
        "---\n",
        "\n",
        "##**Disadvantages of Pre-Pruning:**\n",
        "\n",
        "Pre-Pruning also has some disadvantages:\n",
        "\n",
        "**1. May Underfit:** If the Pre-Pruning criteria are too aggressive, the tree may underfit the data.\n",
        "\n",
        "**2. Requires Hyperparameter Tuning:** Pre-Pruning requires tuning the hyperparameters that control the Pre-Pruning criteria.\n",
        "\n",
        "---\n",
        "\n",
        "##**Difference from Post-Pruning**\n",
        "\n",
        "**1. Pre-Pruning** → Stops tree growth early.\n",
        "\n",
        "**2. Post-Pruning** → Let the tree grow fully, then cut back branches later."
      ],
      "metadata": {
        "id": "6yBXMTfCY4fJ"
      }
    },
    {
      "cell_type": "markdown",
      "source": [
        "# **Q9. What is Post-Pruning in Decision Trees?**\n",
        "\n",
        "**ANS:**  Post-Pruning is a technique used in Decision Trees to reduce the complexity of the tree after it has been fully grown.\n",
        "\n",
        "---\n",
        "\n",
        "##**What is Post-Pruning?**\n",
        "\n",
        "Post-pruning (also called pruning) is a technique where we **first let the Decision Tree grow fully**, and then **remove branches that are not useful** (don’t improve accuracy significantly).\n",
        "\n",
        "It’s the opposite of pre-pruning: instead of stopping early, we grow the full tree and then simplify it.\n",
        "\n",
        "---\n",
        "\n",
        "##**Why Post-Pruning?**\n",
        "\n",
        "* Fully grown trees often overfit (too complex, capturing noise).\n",
        "\n",
        "* Post-pruning helps improve generalization by cutting off branches that add little predictive power.\n",
        "\n",
        "---\n",
        "\n",
        "##**Steps in Post-Pruning**\n",
        "\n",
        "**1. Grow the tree fully** (until leaves are pure or a stopping condition is reached).\n",
        "\n",
        "**2. Evaluate subtrees:** Check if replacing a subtree with a leaf improves performance.\n",
        "\n",
        "**3. Prune if needed:** If pruning doesn’t reduce accuracy on validation data (or improves it), remove that subtree.\n",
        "\n",
        "**4. Repeat** until no further pruning is beneficial.\n",
        "\n",
        "---\n",
        "\n",
        "##**Common Post-Pruning Methods**\n",
        "\n",
        "**1. Reduced Error Pruning (REP)**\n",
        "\n",
        "* Use a validation set.\n",
        "\n",
        "* Replace a subtree with a leaf if accuracy on validation set does not decrease.\n",
        "\n",
        "**2. Cost-Complexity Pruning (CCP)** (used in CART)\n",
        "\n",
        "* Introduces a penalty term for tree size:\n",
        "\n",
        "      Rα​(T)=R(T)+α∣T∣\n",
        "\n",
        "* 𝑅(𝑇) = misclassification error of the tree\n",
        "\n",
        "* ∣𝑇∣ = number of leaf nodes\n",
        "\n",
        "* α = complexity parameter\n",
        "\n",
        "* Choose the subtree that minimizes this cost.\n",
        "\n",
        "**3. Minimum Error Pruning (MEP):** Removes the subtree that results in the smallest error rate.\n",
        "\n",
        "---\n",
        "\n",
        "##**Difference from Pre-Pruning**\n",
        "\n",
        "* **Pre-Pruning** → Stops tree growth early (during training).\n",
        "\n",
        "* **Post-Pruning** → Grows the tree fully, then cuts back unnecessary branches.\n",
        "\n"
      ],
      "metadata": {
        "id": "1hW5bsB6bRhO"
      }
    },
    {
      "cell_type": "markdown",
      "source": [
        "# **Q10. What is the difference between Pre-Pruning and Post-Pruning?**\n",
        "\n",
        "**ANS:**\n",
        "\n",
        "##**1. When Applied**\n",
        "\n",
        "* **Pre-Pruning** : During tree construction (before full growth).\n",
        "\n",
        "* **Post-Pruning** : After the tree has been fully grown.\n",
        "\n",
        "---\n",
        "\n",
        "##**2. Approach**\n",
        "\n",
        "* **Pre-Pruning** : Stops splitting early if the split doesn’t meet certain criteria.\n",
        "\n",
        "* **Post-Pruning** : Allows full growth, then removes unnecessary branches.\n",
        "\n",
        "---\n",
        "\n",
        "##**3. Criteria Used**\n",
        "\n",
        "* Pre-Pruning** : Max depth, min samples per node, min impurity decrease, chi-square test, etc.\n",
        "\n",
        "* **Post-Pruning** : Validation set accuracy (Reduced Error Pruning) or Cost-Complexity Pruning (CART).\n",
        "\n",
        "---\n",
        "\n",
        "##**4. Complexity**\n",
        "\n",
        "* **Pre-Pruning** : Simpler to implement, faster (since tree is smaller).\n",
        "\n",
        "* **Post-Pruning** : More computationally expensive (requires growing full tree + pruning).\n",
        "\n",
        "---\n",
        "\n",
        "##**5. Risk**\n",
        "\n",
        "* **Pre-Pruning** : May underfit if stopped too early.\n",
        "\n",
        "* **Post-Pruning** : Reduces overfitting, generally better generalization.\n",
        "\n",
        "---\n",
        "\n",
        "##**6. Tree Size**\n",
        "\n",
        "* **Pre-Pruning** : Usually smaller from the beginning.\n",
        "\n",
        "* **Post-Pruning** : Tree starts large and then becomes smaller.\n",
        "\n",
        "---\n",
        "\n",
        "##**7. Example Usage**\n",
        "\n",
        "* **Pre-Pruning** : Used when dataset is very large (to save time/memory).\n",
        "\n",
        "* **Post-Pruning** : Used when accuracy is more important than speed."
      ],
      "metadata": {
        "id": "LOQFOXcsenKQ"
      }
    },
    {
      "cell_type": "markdown",
      "source": [
        "# **Q11. What is a Decision Tree Regressor?**\n",
        "\n",
        "**ANS:**  A **Decision Tree Regressor** is a type of Decision Tree used for **predicting continuous** (numerical) values instead of categorical labels.\n",
        "\n",
        "In classification trees, leaves represent class labels (like “Yes” or “No”).\n",
        "\n",
        "In a regression tree, leaves represent a numerical value (e.g., predicting house price, temperature, sales, etc.).\n",
        "\n",
        "---\n",
        "\n",
        "##**How Does It Work?**\n",
        "\n",
        "1. **Start at the root node** (whole dataset).\n",
        "\n",
        "2. **Split the data** based on features to minimize the error (not impurity, since it’s not classification).\n",
        "\n",
        "* The most common error measure: Mean Squared Error (MSE) or Mean Absolute Error (MAE).\n",
        "\n",
        "3. **Recursively** split into smaller regions (nodes).\n",
        "\n",
        "4. **At each leaf node**, the prediction = **mean (or median) of the target values** in that region.\n",
        "\n",
        "---\n",
        "\n",
        "##**Mathematical Formulation**\n",
        "\n",
        "![Screenshot 2025-09-02 233328.png](data:image/png;base64,iVBORw0KGgoAAAANSUhEUgAAAggAAAEaCAYAAAB0Cq9uAAAAAXNSR0IArs4c6QAAAARnQU1BAACxjwv8YQUAAAAJcEhZcwAADsMAAA7DAcdvqGQAAE6ySURBVHhe7d1/cBTnnSf+d77HlSdFZsaOD4aNUeRlEWNjJHAiCccB6RJALGVJhEUDJCiyrbHkiyXBrkHe2BPZCYqSDcg+0Mi7QaDEmlUuoFFMkHLWacCOpWxhS+RiJGLFDWWOceKsxhVu1SoomrKunu8f86unu2ek0S8Efr+qpkBPP93z9DPPdH/6eZ7u+ZQQQoCIiIhI5f/TJhARERExQCAiIiIdBghERESkwwBhtowpkId60HHCh8EPlVCiDOmCrMlIRER08zFAmAXy2Vqs/1w6tv6rBOAyTj69Fmlfc8NdvgJ7z4SDBSIiormDAYLWJTeyLFlwX9IumBzlVCVWPDKAkncu4vQPy1G4pRw1x8/iFw82wXVsEfJybNpVJqfLCct45Z7mfbvtsb6I6BPMMEDwH8qCxWLRvHigTJ6EA//ggb32ZZTcE7sk4+slsJtysXpJbDoREdFcYBggAACW1+H86ChGI6+zqOLJLDnvtMHzAZD6OYNegnkmmL6Wh2xt+mRtao79jLqcsFic8GmyTcp0bmua+A9lwfKQG37tAiIimhbxAwSauuHLCADw1h+ApJ1qYMvDy3tzNIlEWgoC7/jQ0StBGdMskWVd2qSNKZB6O+B7JwBtU1WuyLq024ESGITvRA+ka9oFMmRtGtEn0KQDBN0wRLnm+jJ81dnlDC5PcLXnK48dznB2aXOo+eF+yIKsQ/7Y9Qy2P24ZdXmy4Ja0OQDAB6d6OwbvZSjnb1EIAO/UImuhBQtXFcBZ14SeSwow346MZSbtGiHRfYwKliEm7ZIbWeEre9VVvq/cAst2LwAviiwWg6v/2P2JfZ9YibaV8HMLj993uZGlWU9X511GY/3x6jxYN+k1EjDkQnrcz8OoDhHZbrisCfdBw38oS9+GDOcpxCt7SPg7EX5ptxkhw/fUBuzpVdBXl4W0mv7oooAHjpQUPPHLaTh1j0lwP5KPI38exvFtaXC0BqLLzrqQ9tdrcGBIvcKtT+6qxIZneqD8rhZZ97kQrdkAPDtSkFLunVhQdCnYvhO1G6JbljBw+WCmMK9uEJe1C0K6y8zCbC4V3ZGUy6JhtTl2nddKhdlsFuayaC5D7zeI0oOqd3qtVJjNmaLhfXUmtdB7mc2i9LVwWrcoNZtFpmo7Eynj5YOZmjzB7cS+fzAt+l6hbSeoH7WRnufEmgXB8kZfS0WF77o2awzdZxCuT235w3+/Vhq7L9q/RbCuM82aehm3vuNvK+HnFn4vTT1NV53r6seAUZ6YtAntQ/Tvywcz9e1Zk2fcshvl124z7Mwese67A9G2+402EW41171bhdmcKfZLsasM/2k4NmEChn+aL3Z6R4T4OFj2Fd9/L7Js4LtLhdlcKk5+HEq4OiwGfN1i4E+J2++c9nGf2PPVfWLg43B73CnawrtztU1sNZtFZn20DhIKtXP15010u4gfIMSc0BId4EK06dqD7YTpD7CxQgdLzUFVe+Afv4xx3mdSJ4XxXR95T7x5ZJ/Y+sVQfT7SIhIeyt9vEJmqE2l3mVlklpXq08InOO1JXPu3iHcwC9anOrjSMdqWjqY+Dd9r+urc6OSvo/ucxttXo32YRLkS5ZlQXQa9d7BCHH5fCPHuPrHCbBY7vdGTcl/1AmFesEf0CSHEnwbEySP7xNYvL9C/97iui+6qPaL7YyGue3cKs3mF2PdueNmwaHkk2lZHXqsQ+VWHxclX28RzXzUL81cbxHvhwOFW8m6DqPjxZSHEe2LfA7GBlzizRywwLxB7zsSuQvRJFH+IQTtJ8e0qpAKAdA7S8hIUaicsLilEyXIJ52K66DNg1+YzEuqmC3a5FsGrXW7A/oBdmxQ1kTJekjAIB7Zv0uTRkN6VgGNFsV3Cq1wwHIlQUS5JCKjGh01WO3KfqEH7250oNwH4yzjjukvsyIAXx7sAwA9p0I6Sbz+PkuXhNB+OH7OjpCBVu+Y47FiVoOqSMu7npnmvGa5znSVVqNshwdMZ6uC/1AHPkAN1u1V1Nu4+JGfcsm96HnXLg8M1+uGPWPbdjShfAkgn2uBHITZvCg9JDaL7hALk5wQnud6ditVbqlHnSLYtAIAJeQ31yJunoPNEB/D5bdi2PLToWi86egH7V1bDBgkN3+vDwpyNKNziQF1HM/LOurBXPRxxq1hehcYnU4GhNrR9ABRuKUCkZn0noaAAOVmadYg+geIHCLPEV26BZZUHJefCwUg7HNpMN5m99rzqbo6J3NWhoPNZF3pvaNMBzLsXqUsApC6Cwb0NKnnYvgPwnvAFT2woQeGSVBR+3R5M6zoOr1EQNEtm+nNLvs6N5W1xQPp5B/wA/J0eSDu2Iy+0bKb2IXHZU1H1dvC9MmrSYRk3UPDD1+kHNm1GwfxQ0gc98AWA3JzVwb9NVtjuNkVOcpMy1ov/1QnYHJsRienO9MAHE3IfDqaYxiT4/ncoIJifjdzlQE//QGQTtxr/qQ74kacKvPzoeSMA5ORi9bxgiiIHIIcj+WsyAlcShvVEt5XkAwT7KtiHPOjQPhPhUgc8Q8lenfpw/BjgOJ78gT+hCZcxfDWuIp2LuVK1P2CPnGAmbKwX/6vrBq5f1S4AIPejZ8gEx2PRq5Z48rY4gEEJvk4P8PVCpAJILSiBfVCC78Ig7KG02TeVz22G6jyeTdvhGPKg45IfHT+X4NgSCQ8mtw+DUmy5Jl32PDSPjuJ87Xj5JZwbAuwPZ0fai9LfgwHYkL0ycYippsgBBCJnOgMfSBgEkJOdEUkaPNMNIAerMwDAjurfjuKPPwzdmHutHz1DQOFX1XfiKJADqhOqkWsB+COPGjeiIPCBf4rbmNjJXHpXApbnIjsceF3rR887gC1rFWwAlFMu7G08gPVpTrhfrITr5z3orVuLlKd8iXv/iG4TyQcIoW5b1yr1zHg/3N9wQdpRl9zBFnasWg4MXogeHn3lU+/mnVAZl1Shbgfg3a7O44Nze+y7pxaUwD7kQpH2joK4M88BnO9DL3rgbtV0io/J6Kh+Gn07WvFS5KolgU3b4RhyoagG0aGEJXZkDLlQVCMhY1mC8MC+CnYMQtIGSZOh29YkP7dprPPUZRnAUOzJ2Vgenq8FPP+0Dx7U4fnI8Eby+xAu175IgDOJsnc5k57x/mn1H2MSjrh9gGkzNj6oXpBAwANHShrSUp6AN97te/MQG7DKPhw6GgByCpETPoGqDNbvQ19BM14siq4VaHUgJS0NKc54dwD0w3VfGtLvz0JtnLsiAq0OpK1In9I2gnlSkPbXifIE91lNOtoAH0zYnJcBIIC2U4tQ/UQGFsmDUAoaUfdEIRyOXNz4nYTIwArvYqDbmXZSgpjgBLDgXQLRl27i10QnY4Ums4W3U/panIlsEcYTzYzKPG4ZdXlKRbduYpu+jONNvrx8cI1Y890W0fB3S8XiL28Vzx1sEyePPCfy71ssMqtOiuEkJnZpZ+9H0rR1a1Df0X0LpRvtW5z61DLeVoLPzfC9gqanzqN3s2jrRye0Ld0+TmIfYifwTqLs4btRwq/xyi6EeK9xnTAvXidKqyrE1pzFwfUMJiMaTpAUQoir3aJiaXgftQvDRkT3t5YK88qtoqKqVOSvXCDMRnUWmqy4pqRN146v+yrE0nC9xC4KuSwOf9UszItLRfeIdllQeBtrDsa7iyC8jQrRfVW7LCyUx2wWawzKHyE1iHV3LRbrHq8QFdvWiMV3hcoe2q/r14UQHaUxE4p1dRz6rOPXK9GtyzBAoKkZfvc9ET7+Xf/TgOh+9aQ4+eqb4r2RW/jWsJlkdJKloOsjYuS6EOLqiBgeHhHXpeAJSX1HQ5ju5KUx/NN8UeHTpoZcHRHXPxbi+shw8H1eK9Xc0RA00r9PVHy/L9S+B8TJV7Un4GHRsrkiToAwy87sEfmN2vKFXRcjI9eF+Pi6GBkeFiNX39PdSipCd4ss/e5A6K9hcfirobq/ej0mH9HtKPkhBhqXbbkd1tD/TfdkIG9LIQq35MJuncCwwieQv9NjfNfJJ901HyrTUpCy0Q3/fCtstjvQe3A/JGs5dn0t2bakoPfXVuQ+rE0PdpOv/asULNzlg8lqg802giP/5AVyqlEevqMBAC648fSrq1H9RCqUgISeo4fgkzXluNYLnzUXc+EZodIbErK/YjQMp8D3VBpSUjbA/WcTrDYb7jjjxv4hK8orHaqhFgk9byA05ADgUhuOnHWg5Gsymr7vAX+onW572oiBaCZ1l2l6CkJd7uyiNeBvEGvMi0X+T98TQlwX7/04XyxenC9aNA9HEgMtoqKqVKxbahbmuzLF1qoKsd8X+5SN6z17RGZ1X0xahK9CmM0rxJ6eESE+HhHd1SuEeeUe8WbMMECfeG6xetgk+Irtkbgu3vyHzLnxDAH/YZG/Od6zRi6LhhyzWLy5Rbz3sRDX3z0s8heH61lluEXkm3eKtvBQxp9aRP4DpWL/tytEg/YzILoNfUoIIbRBA9FM8R/KCj4mWcVxfBTN4zwb4ZNJRv+hCux5dRh34AY+/XA1Gl8oRGqynQdQ0P9KJ6zFDtg1E/MAAGMBdDy9E7XvAtZrQOrjP8BLzmxYjfImcq0fnk4rSnYkdSvTjPC3N+HyhnLkhrvyNOSzblTsbcOwCbjxn3NQ3VCDwiXailUgy4BV3fOnyJBhBTsD6ZOAAQIRERHpcA4CERER6TBAICIiIh0GCERERKTDAIGIiIh0GCAQERGRDgMEIiIi0mGAQERERDoMEIiIiEiHAQIRERHpMEAgIiIiHQYIREREpMMAgYiIiHQYIBAREZEOAwQiIiLSYYBAREREOgwQQvyHsmCxWODsCv398lpYLBYUdyrarBN3zYfKFAssmQcgaZfdbrqcsFgsyDrk1y6ZmjEZvmfXIuWzFlgsa+H+QJuBiIhmwpwMEHzlFlgs6tdCpOe70HFpCifrZM27A4ANd5q0C5JkAmC1Yqqb+aTyv7weRS8PADnVaH5pG1K1GYiIaEbMyQAhyISVW0pQ8lgJSjalwt/rRvEqBzwfavPNjNQnT2N09CIaN0zw1D7oQVFuGta/rLqCnp+HxoujGH29fI6c2ALw1RQgK6USPu2iOWpgQAKQh5d+VgPHE1Uo/Lw2BxERzYQ5HCCkYtsLjWhsaETj8bP440/yAPSg9uigNuPc8GEPfO8EII9pF8wlCqRTPZDk69oFc5Qf/iEAsMI6X7uMiIhm0qQChJaWFpSXl6O8vBwtLS3axTPC+oVc2AEEPhwG1HMGXvSg+H4LLJYsuC8F8yqXOlCZmxIdntjpRr+s2pgiwVO+FgvDy8u9uKw5sWvnJAAAFD86dq1F2sLQ0MfCNBQfCwSHRLZ7AQBSTbpqLN4Hp8UCy0NuRPsVFPhPuFCwamFkCCUl14mms6oCRsbz+9F/qBhpnw3mS9vpgZQoALkmwftsAdLD5ftsCtbu6kBgDMAlN7Is6XANAYAXRRYLLBZn3J6EQK8bzkgdWrBwVTHc6jJOxJiM/kPF0fKkrEVlZyC6PNnyhuvxUhPWf9aClKd8mMVBJyKiT5SkA4SWlha8/vrrUBQFiqLg9ddfn50gQR7BCADTnXfGJHu/dwQrf/ERRkfPomoJgAtubFhVDM+1zahvaUXrS9uAThfWF4ZP0gF4irJQeWwA1i9Vob7l+yj0P4eC740zjfCaD5Xp6Sh+ZQB3fqUa9S2tqHfeB8gKVn6rFa27swEAtqJ6tLa0on6TTbsFAIB0aAPSH3WjZ14B6ppa0VzrwKLzXuxdlw/3hdi8/vqd2Nlrxw/+uQ6FS4BAZyWKfpSgnAEfDp+6A9t+0IrWlmZU5wADrxRj/Y8kwJaH+pZ6OGwAkI2qlla0tuzGSu02QgaONcC/8hk0t7Si9aUS2C51wLWuAt5r2pzxyPA9tQLra/pg390cLM8XL8OzMxOVp0Kn9WTL+8M8xNTqNQVJhixERDRRIkllZWXim9/8ZsyrrKxMm21KusvMwmzOFA3vB/++Pvym2JdjFmbzYrHnTDDt8sFMYTabxdLvDqjWvC7avmEW5gV7xJsfR1MHvrtUmM1Lxb7fCSF+t08sNZuFeVubGInkGBFt28zCbDaL0teCKeHth/9+7/srhNlsFmsOvhdZK8ZrpcJsNovMg5dVid2i1GwW5tUN4rIQQlxtEzvNZmF+YJ8YUJVP9OwRC8xmYS7rDv4d2lZMGd9vEJlmszA/0iKGVavGUG9TBN9va8w6l0XDarMwm0tF6J3i02wrWIcLIvWvo93/d/eJFWazWPdjVWnD5dnWJq4L/XtMqbxERDStku5BmD0SXKtC3dtpBTjwDpD9w9Oo/1JsrpzsDNVfvejpBKA0oSDULW+xWLDmxQCAAC4PA/4zPgQAOIodsEbWsyL7YbtqO1oB9L3lB5CHXU8kyjeOMz3oAGB/fBsy5qnSc/JQAACDkmooArA/nB0t4xI7MgDgL3KCbnUZg621qNy+Fmn3p2HhX4WGEBKuY0z5wAf3s04UZKYhLSVchwr+Y0Sb05j/1z74AfRXp0U+B0u4PP5hBAcapq+8REQ0vZIOEL785S9rkwzTpi58F0M16lva8W8XP8LpivFPztcBYFk1Tl+8iIua10tfATAWOvWoT9DjUiD/BQCsuOMO7bK5QoFv1wqseaoJ7y35Jl78wVH85mIzCrXZJuKSGxtWFcHVdQN5e1/Eyx3ncXrP+HUfI1TPhU36z+Hi/yxD6nSWl4iIpl3SAcKjjz6KdevWwWQywWQyYd26dXj00Ue12aZB+C6GGpRvyUOGbSK3G65Ebg6ACx3okW2w2WJfVhOQunw1AKDzVI9qvQC6OxKM7SMVq3NMALzw/HIKo94Z2cgFIHk7Yicbnu1BLwDTwxlTuB2yF8dbZWD5M2j+YTkKt+TCfm14Ug9o8nd6MADA8cNWVO0oRN6DqRj5MLktpWbnwgTA5+uDSfM52O42TWt5iYho+iUdICAUJDQ1NaGpqWmGgoPJsmHb7hJYIaH2oSw4D3nRcaIDTXVFWPtMaL7+V0pQbgWUowVIf9QN74kmuNatgTtgPKkwLHt3PXIB+EpTkFXuhveEF+5dBSg+HBoUWHQvbACk+krUHnOjttXgiYK2EtRU2IChWmQ95IT7WAe8h5zI2uhGYF4u6vfkatdIwp24ywRgqAGuQx3oOFaLopIGBO/5CLNhUSoAeLHnqSZ4n3Eb3sVgsi4CAHjrXfCe6EDTrrWo6JpIgKbypSrUPAgo7cXI3OhC04kOdBxzozK/GE2XMMHyxsG7GIiIZtykAoS5zLShEb//RTVyP++Ht8aJ4keL8Z1XAliWHeoin5eN+rdbUZJhgv+EC07nAfgLf4bmsti7I3TuKUHnH1pRlZMK/zEXnI86Uds1gtSMUGDx4C4crVgJk9yDA+W1kOYZn1Czf/hbnD7gwMqAF67yYjhrOqE8XIXW850ouUebOxnZqPmf1ci1BtBRU4zi70ko/MmLyIvJY4KjthGF9wD+1r1wdo7AaK9txUfRvCMVprNuOB99Av86//v42d5k+zZSUdV9Fo07VkI568beR4tR/NR+9GElVoXuTBi/vOPgXQxERDPmU0IIoU0kIiKiT7bbrgeBiIiIpo4BAhEREekwQCAiIiIdBghERESkwwCBiIiIdBggEBERkQ4DBCIiItJhgEBEREQ6DBCIiIhIhwECERER6TBAICIiIh0GCERERKTDAIGIiIh0GCAQERGRDgMEIiIi0mGAQERERDoMEIiIiEiHAQIRERHpMEAgIiIiHQYIREREpMMAgYiIiHQYIBAREZEOAwQiIiLSYYBAREREOgwQiIhoDlAgB2Qo4b+uBCBf02ShWfUpIYTQJhIREc0eBb6avei71oemqyXYZRqG9SurcOFHT0OpvYjGDSbtCjQL2INAREQ3V6ANvv9SjfKMRZAHFRS+VIfyLQ5sy7mBvqGANjfNEgYIRER0c929Dd+vSEVfbw9y/1sJ7PMAwI++XgUZy1K1uWmWMEAgIqKba54Jpnn96P2VDdkrbcG0D7txcqgQf5sDKNfCMxNoNjFAICKiCVIgtbrhm4le/ws96MFmbHww+Ke//Qj6d5TAMdKE2lZZm5tmAQMEIiJKIIDBE164ny3C2pSFyHrKA2kG7i4InOmFtGE1MkJ/m6yLkDo2ANePbqDEGepVoFnFuxiIiCiBAAZP9OHy3Xbc+1Yx1tQBdefOomqJNt8UKTJkWGFV3bCgyDJgtYL3MNwc7EEgIqIEbMjYUojCHHvMyXvamWKDg2ASg4ObiQECERER6TBAICIiIh0GCERERKTDAIGIiIh0eBcDERFNiP9QFtJrkruLwf/yWqQ/OxBNsNpg+4w6R3xKIAB5TJuqklWPi6+XgzdBzgwGCERENCGTCRAwJuHAmizUDoX+3tSMPx53wKrJNh7lSgD+d3vha/egobUHgTEASEX12+dRs1ybm6YDhxiIiGjmzLOj2lOHleG/u5zIPyTF5pkA09022HMcqGroxMWP/ojTtXmwwQ/30R5tVpomDBCIiCgpSqJufyPLqvCrn+RF/hyoeQLuCzE5kjPPiuzd7Tj/dg3sR2vR9KE2A00HDjEQEc1FYwDmaRNvBj+atq7Hgf4AAqqfRLDeY4Ppa0dx8Ye56swJyPCVr0DRsdBGrOU4/X/qkT3FfZS7nNj6u2dw2mXXLqIpYoBARDTHSC+vx9ojq+DtqUdusoP1c9k1HyrvK4InHCPsaMfvm/KSno8QS4F8BbDezWcuTjcOMRARzSHSobXIP1WCXx0A9j5UCd/t9EOG8/PQ+HoNwtf68rFiPN051R00MTiYIQwQiIjmig+asP/D7+O3vyxB9oZ6/OYXGfDU+6Bo893KllWjtTY8ZVGBd2c+3Jc0eWhO4BADERHNsgA8+Wmo7A39+WAdzr5eBfsU5yPQ9GIPAhHRTacg8I4PHb2S7g4BRZZ1abc+G0p+1g5HePLBOy4U1Q1q8kyTMQVSbwd87wR0PTHKFVmXRlEMEIiIbioZvqc2YE+vgr66LKTV9EcXBTxwpKTgiV/ehqcxax5eaoo+MMn/4iNwdk11PoLGmAT3I/k48udhHN+WBkdrILrsrAtpf70GB8IPcCIdBghERDfTW7XYb3sZrbtXYpEMyB/4I1e1ym860AM7VmYkmIQne+G8Pw1pSbyc7dN8Ip4k66Zm/M89qaG/ZHjLn57WSZmB1r3oK/sF6ovuBQLAZf9IZNnga22QkY2Vy6L5b8/emsljgEBEdBNJ/Qq2fTMDGPKgaQgo3FKAcDgw2N8LmHKRqzqJ6VgdaP7DRVxM4tVcNLUbC6dThqsddQ+G/pC9KCr3YnpiBAUDv7Oj5GtWKL/0wItUbNsSvn8igHNnA0BOLlaH5z0oHXgiJQV7f63axCccJykSEc0BUl06sn60Es3/3grHfAAYRG3aGhxY24rRnxRqs884i8WiTUpodHRUmzRxl9xYu8qFAQCYl436c6dR/nltpslS4N25EM6Bapz9fegWy2teFP2VE/4XzuLsnugDlhRZgcmaoLfmE4YBAhHRTeeH+6F0uFKb8dFxR7AH4QM31q5w4c6Gi+h8LNHvFSqQA8lNtjN9xgbrfG3qzSW/UoCUXSOo++1vUJWoxyRZYz44P1uE3j3/hosvZATTTlXCsrUN5d0fof5LwSTligzcbY303hADBCKiOcAHp6UIg7XncXZ3cExeaS/CwtIBVPdcRE24C97IWAD9nX0Y1qYnYH0gD7nL5tCpUPbBucIJNP0ezZumefjjkhtZq1zIOD6K5k3BpMHvpWHNiyvR/O/tcMyX4auphfSZy6gd3I4PfhYK0IgBAhHRzedDpaUIfeEAYUyCe10WXH8ox+mP6pGtzX47Ce1r29+dxW92z8DvKYR6YpaFAwTZB+eKInhXNuLir0pgGzoA11AVdl11IK2rJNqDQwwQiIjmAunl9cj6J8Cx5T7IAyfhe0cGdrRjtCn6K4i3nTEJnqJ8HFh2FP+2P3eKv8kQjwzfU5koOrMSJTlW+Hs70XNJgT0cjCkKlHkyPBvT0Putj9BaxPAgjAECEdHNpsiQYYX1/8kIXAWssgdrM12w/+R2PmEFf93RieZp+MGmBK7JUO6wAtcCkBUTrL97Ggu396P67fOoWR7Kc8mNrIf8qP/z97H6hgmmOTY/42bhbY5ERDfTNR8q01KQstEN/3wrbLY70HtwPyRrOXZ97XYNDgDpUD6KpGdw+p9nMDi45Mbav0rBwl0+mKw22GwjOPJPXiCnGuXh4ACA9PMm+IsLkHvBjdquZKZ73t4YIBAR3UxXJAzIVuQ+nodUKJAOO+DsXIXG1+uRfZv+NoHc5cT6+mVo75iG318YG0TT4X7juzjelzCAVJTvWA2MyfA9kw+XXI7On5VAfV+I6c47YRvpR+0rVpTcxkFZsjjEQER0U8noP1SBPa8O4w7cwKcfrkbjC4VIvU3PU3KXEyvKb+Clt1vhuEe7NHnSi1mo+MyvcPpJg1tBxwLoeHonat8FrNeA1Md/gJec2bAaBCW8zVGPAQIREcUlD/rQM5KKvIftMM0DFFlC3xsSbty7GjnpNpgMTrZxXXBj7UNt2Pb2dDzrINjbsr76Drz07+2hh0vRdOIQAxERGVJOVcLZKgd/RGqXFz11BdhQ0wMZN+D7+zQsLPJA9fNHick+ONftx7Kf/WrKwYFyoQOujenIqu6BXLAdBQwOZgR7EIiIyEAATVsPwH68HjeesqDomBWO49EHGfkPZSG9JgPto80Y90ZMRcKBjVnwPNyJ039/n3ZpYjcCGPjfl6FcGYDvTD/6TvVAUv1Yg0P1ACSaXgwQiIhIT/HBVXcn6mqtOJCZhdrURvzxFyWROw76n1mI9T/ehvbRxsQBQvihT+9oF0wDUzk6/1yP3GSGOWjCGCAQEVF8AQ8K0iqBmN+EkFC7IgsHHlD9dkQcytkm7P3XQW3y9PhCORofC/2+Ak07BghERBRfpxOWnb2xvwkxVIv0hw5g5W39ICfiJEUiIoqr/zedADZiteoHo6QTbfCjEJs3mYC39sLZqpoUQLcNBghERBSHhJ43FGBTLnIiaX74Ov1A0TY45gfg+dEw/nbLjD0LkW4iBghERGRMGcTABSC3IEc1zyAVuQV2oP8InPlF6H/yZT6D4DbFOQhERBRXvCcMKnIAN+bZYJ1McHBNhvyfrLBqNzpRHwYQuMcW87hkmn7sQSAiorhMBsEBAJiskwwOIOFAbgrym/3aBeMIYPBEE2q3r8XC+5/DgHYxTTv2IBAR0axSZBmwGgce8SmQAzdwh+zB2sxzqJvIA5poStiDQEREs0aRZWB+ssEBAJhgtVmT++0HmhIGCERENCukw3tx4JgLa1fVQgqlKVcCCAQSv2TD33KmmcYAgYiIZt41LzxXy1CTYYL/BnADAKDAP9iHvjOJX9IV7cZoNnAOAhERzbwxBcqYCX3PLUTl3b/BeZddm2NiLrmRtYpzEGYDAwQiIpodYz44P7sfq/9wGiV3KjDNB6Rf+yCNaDPGWpRdiOx7Qn8wQJg1DBCIiGhWKO3FWPgvObjYcRcafpyBuj12KFcCkMe0OWOZrLboMxMYIMwaBghERDQrlFOVSKu34pmVgN1Vh7ykntA8CM+uJvRI3fC+FYB9UwlWf6EQNf+YxwcmzRAGCERENGsitznydsU5jwECERER6fA2RyIiItJhgEBEREQ6DBCIiIhIhwECERER6TBAICIiIh0GCERERKTDAIGIiIh0GCAQERGRzm0dIPgPZcFiscDZFfxbOVWJFIsFWS+Gf4k8Of6X18JisaC4c+7+OPlMl3GqdUjj07bbmeOHO9cCy2eL0XFNu4yIPunmZoAwJqP/sBNr0xbCYrEEXwvTUHwsoM2ZNBMA62fCv/qRpHl3ALDhzkmuPitmoYxTqsNJCcCTb4El1w1pDECXM9IuFj7do80cNNaDvQtDbechN/yqRfJbTXDmpmFhuG1ZFiLtUS+CrcsP90Ph9NjXzJ+wZ98d8wDcfSem/dP80IMCiwVrDzGQJLpVzcEAQYbvqRVYX+3FwLzVcDxWgpLHSlDylUWQ5aldFZs2NOLi6ChOP5kaSQuccqEgMwWVMQf/AHw1BchKqYRPlZr65GmMjl5E44ZpP5xOG30ZjfdlsozqcKYFXnkClb121P20CnbN89uVo0fgNbj6VX55BE0GzUXucmLFxr3wngdWF4Xa1mM5WCT/B2KzpyI33PZCr9zwz83ekgbh2b4WaRvVwVIqyl8fxejFRuTNj8k8dfeU4GhDLgZq9sLzoXYhEd0SxFwz3CLyzWZh/uphMaxdlqTLBzOF2WwWpa9pl0QZ57ksGlabhdlcKrrVybekW3xfPu4TexabxYJ/eDOa9lqpMJvNInN18LPb6r2uXkMIMSxaHjEL8+pMkWk2C/PqBnFZnW5eJw7/SbNKxM2vL+M2OVXdojSmLmbBx2+KPQs0nx0R3TIm1YPQ0tKC8vJylJeXo6WlRbt4aj7zadwBAIEAAnF/I9wHZ6jrWBpqQvH94WGItajsTDAMEeqazjrkj3Qlp9cEu0C920PdyD91I8uSDtcQAHhRZLHAYnHCZzQ2HNleP/oPFSPts8FtpO30BLvCwxQJTTvTQ13aC5Fe7kXPixMZZ1bgP1GpGmqJdoVHyvKiJ7T/WXBf0pTxUvx9AQDlUgcqc1Mi207f6Ua/HH7vcB270PTs2mDZy32aOgwJDwmlRLvs0/Nd6FBdOUbK1RlAx67Q9iwLsfbZHkTe0sjZNnhkE0q+lqtdAjjKUG4CfP/iCQ0PhHx4Ep5eIPvxMmSo02HFp+cDQACBj2IWTE24Tmqa4FoT/Kwi814S1nGwbXjKo/WRXu7FZU2717U7hD/b0GcSEae9dDlhsRTBCwBDLqSHvjv+yHBKtE0gVGZXfri9WmBJWQvn4X7V5xT9/vWfdUe/f/cXw3NBtaF5uSipsEE56oEvtE/+w+thsaSg8pRB9w4RzSlJBwgtLS14/fXXoSgKFEXB66+/Pr1BwnwHnqmwAR8cwJr718N1QoISL1C40oSizW1I3dOK5loH7GMD8OzMxN63tBmN2JD3w1bUFwV/STx7dytaW1qxe00e6lvq4bABQDaqWlrR2rIbK7Wrq/jrd2Jnrx0/+Oc6FC4BAp2VKPpReOw1AE9RFvZ2+mH9UhXqW76PQv9zKPjeeGOzCny70pH+qAcD1hxUv9SK1pfKcN9YbFe493tHsPIXH2F09CyqlqgWAIAtwb5ccGPDqmJ4rm1GfUsrWl/aBnS6sL4wdrweQ27UXqnGxf87itGmPPWSkOiQ0PDyKtS3tKK+IgNKrxvFDznh05z9fU+tQS2+iaMvVSHbqmDg5QJUtMc/WQz6TkJBAXIe1i4BMG8jynanAmfdaBqKJkuvuNGPQjxZfK86NwATHH9fBRv8OJCbhvXPdkAyGJ6YLOlQLYb/8SJGR0fRvGkidRxsG5XHBpJsG0YStJeM3WhtqUI2ANgcwbL8MA/Blq8RKrP7jAkFtc1obaqDwzYAb/V65GvnE1zaj50lPbC/0Iy6LanAhx2o/LtaqHNlPLwRQCd8Z1WJAEauJgwLiWgu0HYpjKesrEx885vfjHmVlZVps03RdXH51QqReZdZmM1mYb4rUzznG1EtD3WXaruKe/aIBWazWFDdJ4RRV224a/pgtJNVlyeYatjNrMsb2p55W5uIlO79hmC39iMtwSGS3+0TS81mseDxk9E8YkS0bQvuW9xu5Hf3iRVmszDnNIj3PtYujJZl6XcHDNOj2zXal+ui7RtmYV6wR7yp2vbAd5cKs3mp2Pc7oarjraLtajSPrg7D5VTXgRBi+MfrYvKFy7VCXd7QtsKfl5GTjxt0i6vL8KfDYp1Z1Y0d061t3K1+/f2TouKLobZlNovMb3eLkUg9hOtL+0ow5KBqB9HBjgnUcahtxNadvm3oP1NVOysLlWqc9mJcF9q2ESqzeUWoDYSE6tRsLhXdH4vYthEpeHhb+aJFPTYYKmf+T6c6YEhEsy3pHoTZYULqlkac/fNF/Ns/l8AOCe6tK+Ds0lx1LN+MjeqJYw/noACA0tcXexU8w+wPZ8Ma/mOJPdit/RcZCoDAQD8CAAq2FEbzwIrsh+2Rv4wE+vvhB5BXVaabmKeWkx3biT4xvejpBKA0oSA0LGKxWLDmxQCAAC4Pq7Iuz0V2ggls/l/74AfgKHao9g+wbdgMOwDp3dirzmx1ee2rYAegjIyos6j44Vf1DBi6pwRPFkQnKwYnJ6ai6gmDIYkQ05JCNP72I1zsaUTJMkB6uQgrnvJphjq0kxRzsShmuZ794WzV3QDj17H/jA8BXd2N3zaMTLS9JBYq87ISbHtQlTwvF3lfA4BBSB+o0pfnIjtS8FTYMwBgGLK6Vyb0fRie4gRjIpp9SQcIX/7yl7VJhmnTwmRDRnEjzv6fZuRBhremKab7UufKCD4CgEWLjLtPbwJFDp1ttbPv4w2bhITXs94xM3dMXAeAZdU4ffEiLmpeL31Fm3suM8HxZDlM6MDxLgmef+kAsqpQvlybT8sE24MlaPztH9G8CZCPudCkHj9HNqoaGtEYeZVo5jOMb9w6HgudNCd9Qo+a6fZCRJ88SQcIjz76KNatWweTyQSTyYR169bh0Ucf1WabvEse1Lb6Y285m78Q95oAyApuqNOHemImfMm/6UAPgNSMjOm/r3uSUpcFTyudp1T3649J6PAmDHWQmp0LEwBvqzfxJL5JWYncHAAXOtAj22Czxb6sSVRe6hdWwwSg80RHTDnlMz2QAGR/MdHsjfHYsGgid1PmlKHq84DvH9aj9ixQ+K2SOAGiH546D/wxjcuKhfeYAIxAmcb5CBOp49TlqwFt20AA3R2xbSN1SbAN9fYPRtIU6VxML9n0tJeVyM4BcKENHepgaawfPb8GYMpFxudV6RNxScIgANM0BEFENLuSDhAQChKamprQ1NQ0vcEBAEBGx1PpWHh/AZy7KlG5qwhrP1eAJgVYWblNcxXngzO3GO5jHWh6dj0yS30A8vB85cS7aG33BM9A3mcr0XRsL9ynoDoxebHnqSZ4n3FP/hkCG55EuRVQjhYg/VE3vMfccD60Fp6rxqewiC9Voz4nOEM+JdMJ97EOeA9VomBnU5LDJ0b7YsO23SWwQkLtQ1lwHvKi40QHmuqKsPaZJPf0S9Wo/yqgtBcjc6MLTSdCn8VTPsBWhR84x9nPhEywL7cBQ+cwkLDHxY7yqmxAliGjEJs3xY9w5M5KpH8uDQWllajcVYmiNQtRcFQBHtyFbenqnP1w7wrmCb8OnEpwh4zOBOr4KyWxbeNEE1zr1sAd0NTZF1YjG0DgxZ0oPuSF91AxsnZ6Y4PocdvLItxrAzC0H5V1XrjrPAbtyIYSVxVs6jIfc8P50Hq4A0DuS9XITfZE/74ECSas/kLwe8a7GIhuIdpJCTfdx8Pi5LfzRebi6ASxxV/MF8+9elk1ASw84Wq/eLOjQqxZEMy34MsV4uT70Vy6yV3aCXZCCPHxe6LlG0uD73XXUrGvP5QutYid94XKcN8+0TfR7RlNBvvTSVHx5QWR99h5sE/0abdlJFQXK0L7Z16wVKz5Tp+4blSWEMN0g30RQogR3z6RvzJULrNZLFi6RpR6w6U22A8RZ5+15bxrsVhTdlj0qWYtGpZLO9HOyGulwmxeIPac0aZpynC1TexUT1YUwnAfhjueE/lfXBzZZ/PiTJH/7ZPicqTZxJukqP2cVYzKE5K4jifeNoa17fyN/fq6034OqvYihBAjPc9Ft/GNNjGsm6QYytd/WJTmROtowcp88VyHepKhvl6FEKK7zCzM5kzR8H40LTgpc2dkouvlH68TZvNisfNVTlokmus+JYQQ2qBh7vPBaSmCd3kdzr9dhYn0Qs81vqcsKGq1o+6cwe2JFDXWg72fK4CnuBMfvRR/4iHNQfzsiG5pkxpioCmSvWhqneSY7ifNvFxU78+FcnQv3Je0C2kuC7TWo0lZiZpKBgdEtyIGCDPOj6avrUXRs254Q2PQWX8dfHLdyheqkh/T/QSyPdaIugcluB4P/VgTzX0fevDErh6srD3KHjKiWxSHGGZcAL6ni1DROoBAaF6WdVkuSlyNqNmSOmfutiAiIlK7RQMEIiIimkkcYiAiIiIdBghERESkwwCBiIiIdBggEBERkQ4DBCIiItJhgEBEREQ6DBCIiIhIhwECERER6TBAICIiIh0GCERERKTDAIGIiIh0GCAQERGRDgMEIiIi0mGAQERERDoMEIiIiEiHAQIRERHpMEAgIiIiHQYIREREpMMAgYiIiHQYIBAREZEOAwQiIppjFMgBGUr4rysByNc0WWjGfUoIIbSJREREN4cCX81e9F3rQ9PVEuwyDcP6lVW48KOnodReROMGk3YFmiHsQSAiorkj0Abff6lGecYiyIMKCl+qQ/kWB7bl3EDfUECbm2YQAwQiIpo77t6G71ekoq+3B7n/rQT2eQDgR1+vgoxlqdrcNIMYIBAR0dwxzwTTvH70/sqG7JW2YNqH3Tg5VIi/zQGUa+GZCTTTGCAQEdEkKJBa3fDNRK//hR70YDM2Phj8099+BP07SuAYaUJtq6zNTTOEAQIREU1QAIMnvHA/W4S1KQuR9ZQH0gzcXRA40wtpw2pkhP42WRchdWwArh/dQIkz1KtAM453MRAR0QQFMHiiD5fvtuPet4qxpg6oO3cWVUu0+aZIkSHDCqvqhgVFlgGrFbyHYfawB4GIiCbIhowthSjMscecvKedKTY4CCYxOJhtDBCIiIhIhwECERER6TBAICIiIh0GCERERKTDuxiIiChp/kNZSK9J8i6GD9xYu8KFgfDf86yw2SY49fBqAIGEj0DIRv0fTqP8Hm36J50CeagPPX9ZhNzs5CaXsgeBiIhmx+ercPQFe/TvsdX4wdsXcfEPE3j9cRSjo6HXv/8RF9/uRHNtCXIjAUE/3K9I0W0TMCbBvfMJNAzKwDu1yPxcGiq7EkZZMRggEBHRrLHvbkVd6AmJgA/OQjeksdg845pvhW15Lhy7G9H5h1H8sbsOeTbAf+gIepLd1m1M+WUtmv6yEhsLClG4uxW/2A14Hq1FvzZjHAwQiIhmwpgCWZ7C7wZMdf1ZoiR7Qp5nR1VHM/LCf7/jwhMvT+3K3/qlKrSfP4ua+5tQ25zo2c8K5Ctzv06Tochy/M/gDsD/Vi/euxr8MyM7B1D60PeBNqMxBghE9MmiyJB6O9BxahD+8AlYliB9qM04BWMSPNuL4QkkHvBVZD8GT3Wgo1dCJBb4UIJfATDvBvqe3ZBUl/DM86NpaxrSUixIr5EASKjNtCDl/jSkPdujzRyf1YHm4w5YQ38O1KzH3rc0eZJlsqO6ox2pbU0wDjdk9DyTD1f/De2CW5op4EH+I8a9MKaCVoyOdqIk9HTqwf5e4PN5yPu8NmccgohoznpTPHffYmE2myOvnd7r2kxRH78p9iyI5jUvXiqeeyO6eKTnOZG5OFOUHmwTJ3/eICrylorM6hax/xGzKH0tlOn9BpGper+Er8dPRjcecV10f2upyP/psHZB1MfDoq1kqVjwxVLR8POTou1ghVh3X6bY8+N9Ys3iPaIvkm9A7PviGtEgxa5+e7guur+l+mwXl4ruEW2e5F0fGRHXP9amCnG5cY1YWh2p2dvKiHerWFrWLRJW30ib2HrXGrHvdwm+PxoMEIjoFtAtSpeuECvMZmHe1ibiHeKue3eKzAeWCrPZLDIPXo5d+KcWkW9eIfb9Ljb5vYNrhNmsChDCpP3BQMEgCLg+PCAOf2OxMK9uEJp3EeLMHrH4gX3iPW16xGXRkGMWmd/piz2gj7SJrWazMJd1q1OF6NkjFhi9z+3g4/fE/tXRgGvB4ycTn+Qm608tIv+unaLtqnbBHHd9RAwPDxu+RmL2ZVgc/uoCUfpanG/Gx++Jhrx1Yl9/crXLIQYiujXcXYKqJ0xA12F4DIcDFHS+sQhlj9+pXQAA8Le70WPbhs2RCXJB9t1HUW3U5TovNDwQ/lfFZMtAedNLKLwgabqzA2j6ThPsVeVQzdWPobS74PpDOepfyI50sQPBbveSIiD34ZXqVCCnDFVXXXC1315j50BwPkK1pw7hPVbai5H/sl+Taep6XtyLvsfK4JivXTLHXTiJ2rpaw1fTGfVcCxtKvpUHb/UB/fDKWADep91Y9JPTqMmyInCqA/0TbEoMEIjoFmHCRkcJTOjHkXaDk0igDSdNBcidp10QJL0rAYEBg58ntmOzY6I/IaxA+vUgAgAwvwCbNwxDVm/vUhuOnM1FydfibU9Bp7cD+LwNiwzKaZpnR16Odt1g+Tq8nZjgcf3WsqwK7Q25kT8Hni2G+0JMjqkZ88FzFChxRN/jlpFRgsaGRsNX9YbYdmLatBl5H3jQ9o46VYbvmefwH/+tBjnzAvC/40PTK32Y6K9eMUAgolvHl8pQ9XlAOuLRXSkFftkD+xO5cY99Kx/OBeDD0zubMKi5OyDjiV/gmYdjkuIIwPfsodCDfkzIduTCGpohDgCBXh+kZTlYrT3HRwQw7AdwoQH7O/WTD1d+qxnbDB46lPHwRqDrf8FnMBHtdmB7rBXtOyJTFuH6u1oMTte+nvWhEwXIydIuCFICg/Cd6NEHjoocG/zNOgWBd3zo6JV0dykY3rkwPxu5DwbQ8Ub0mxFoLUbRUS/2PpSGtLQ0pOcW4cCfFiFu89RggEBEtxA7SsrswAduHImZ9S6hqetebFuuTotlc1ShxArIb+zFmpSFsCxMR0FpLTzvBKDckwF7TH+/yg0ZgUAAgUAA0ik3PEPRRalFVchTHW0HzvQAX1gZd3gBSEVeQSoAGd6dKbB8NgVrt7vgPjEIeQywPZhhfPD+GzvsGIR0SbvgdmFF3oFmOMKfwQcH8MhTPuhDqOT5+3ugLF+FlQY9NnJXJTY80wPld7XIus+lej5AAJ4dKUgp996kXhsZvqc2YE+vgr66LKTVqJ5cEPDAkZKCJ36pLVkq7PZQT1mIrbgz+nCp8KunCqkx68XHAIGIbimpRWXIhgKPV3Vb3VAbLm+KP+4PAJifh8Zz7ajKCPUxKH70tB9AZW4a0hOdjDqfxpr/ugZr/usa5O+MdwsdAPghDQK2exZpF8Sw/2M7GgtCYcCYjIEuN1yPrkHKxiYYDJwELbEjAxLee1+7QEP2wnl/GtKSeDnb4+757LLmobmjOnLyko858fQ03OIpvSsBqQZXzWP9qK234eXmKqz8LzIg+4O3lwLAtV50vAHYv5AR7ZGazedSvFWL/baX0bp7JRbJgPyBPxKoKL/pQA/sWBluxyr2B+zAkD9+O0oSAwQiurXcU4InNwHK0SPwhrqAe45KyI077q9ydx7q/u0jjP77H3H2V82oeywXtnlAoLUo/omyqDn6uN8/d6I85risP2nceWe8roiQeXaU/OwiRv/vR7jY04q6x7KDJ6+z34F7nGcByNfGOUFZHWjWPqJ4nFdz0TjlBWCxWJJ6TdqDNWivDU9ZlOHd7oQ3zseSFKtVP/R0oQ/KthJkzJPgOSIBBZtREM402IdemJD7cDTklA6tRUrhkYQnX0UO9jRN5JVo+ELqV7DtmxnAkAdNQ0DhloJI+Qf7ewFTLnKXaVYKuzISP9hNEgMEIrrFmFDgKATQgZNdCjDWg05lM7aNEx/IQ4MIhMdt51thz3GgqqETF9+ugR2A75WTwcmHicy7F6nqOQKXjiD/2V5VQgJjMqRLqkP3PBNsDxaiquE0/u1ANgAF/zGiXkEvEBi3hDNC1009zmsqtI9iPuxNdEqeguVVaHwyFRhqQ9sHmpOw7yQUzbwFe8Vp/LE7Ufd8AL0/1t9tEO/l8g5qNxBh392I8iWAdKINfhRi86ZIydB9QgHyc5CtWSciEMCwNm2SGCAQ0S3H9LUylJuAjn/xQPrlESgFDv0VokbfQSfajB4xu6wKz2wC8Bd5AuPNqah6W/WY4HfPAQ8kHNiIOt+Ain81PtnZPp8KwIZ7E49OYNmS+KenIAWywdVqoleiK9mbIxVVrzYiF8DK2rM4/cR4+zw1/lMd8CNPdRL2o+eNAJCTi9XheQuKDPn/Wcf5JUQb8v5Rf7dB3NdjGdoNaPjh6/QDmzajIHx75gc98AWA3JzVmrwqy+2Jh9qSwACBiG4983JRUGwCzh5B8SuL4NigzWBEwslTRlfgJtwxH8bj1Akp8B7zqk7aNixKBSTJeJaCv7cDg3GGCAb7+4Hlu1CieUZDxDUZMoBPG0y0izEmQzrTh74kXuc+NC7TzSPD96wL53a041e7p36qW3SPDZCkuEMD0rsSsDwX2eGT8LV+9LwD2LJWBdvDhSbs/dFxuHLTUauaoDrzJJwbAuwPZ0eCX6W/BwOwIXulcUuVR0aAO7Spk8cAgYjmvivDkK8MI6A6l+U+UYVUSBjJKon77AOt/uoiHBjSnBBlLzztVpQ8Ee1iBoKT0mL+VVMC6DnkwNOddqyKnMNMSE01AR8MGwxVKOg/I0F55TA6NAPEytABVBy6E3WeBN3XH16GH7nIHu+ic54N2VsKUZjEK3dZwsviWScdykeR9AxO/3Ne7IOkJsmWeh/wB7/BZxKiaTvS0Qb4YMLmvIxgEPhTGWUvrILpAwWY5Z9x+LT6jzEJR9w+wLQZG+MEkpf9AZhWr47fjpKlfbQiEdHc8aZ4bnHs7x8s2Hw49Njhy6Jh9Qqx791Q1jeeE0uXLojJu/i+6G8xdJeZRX59i3jui4vF0kdKxb4jJ0XbwVKReZdZrGtUPRjZf1hsvW+pWKD+zYXFS8XS+0Iv9W89mEtFzIORXysV5gWq31II+7hblC7dKQ7/63Mic/FSkf/4PnH41TbRULZGLL5vq2gY5xG4171bjR/rfJt576f5YunKPeLNxNWRnPcbRKY5X7TE+2kMqUGsu2uxWPd4hajYtkYsviv0uYZ+z+H61evBx10nfHz2zHivcZ0wL14nSqsqxNac0O9WaB/FHTEg9i01eGT4FHxKCCG0QQMR0e0mMCTBtNwOKwDlw0H09l+GAivsebmwT9cjeK95UfxXz8HecxE16qu8axKkETvs9wTHs6X+HkhXANO9q5GTboMpYQ+IAu/Ohdi3/CzOu6be5T5XyV1OrCgHmn/fjLzp6DqIkFC7IgsD3/0I7UXa3hIFsgxY5wPyFRn4zAg867Lg+ptmfPSz6LwWX7kF+794EaeLrVDmm8ad7zItFBkyrLD+PxmBq4BV9mBtpgv2n3yEVt1+ABiqRfpDEp7/99bpe6S0NmIgIqLJG/juCrHgH97UJk/eSJvYetdW0TadV9VzjdQg1tw1c79aOeLdKsxfPSxiOxHCvya5RjT4Qym+CrHYvFjsOaPKdrVN7DSvE4f/dF20fXv/7PQiXO0WFYvNwpwT7jUKlXXxHtFn8EuVItTuVnx3QJs8JZyDQEQ0jTL2vohtnfVxflAqeYMH9yPwQl30KYO3G9kH57r9WPazX6Eq3r39SRg82qT7MSJr0YuoGzuAAzHPmQhAeleG9atlyPscoAw1wVF6EqsaTqP+S+p8VtxpBfy//A7O5YzzMK7pckXCgGxF7uN5SIUC6bADzs5VaHy9HtlGvU2yF/tas/Hi3483SSU5HGIgIppuF9xY/y3g5e4q2I0O6BP1Ti2y9t6J1qluZ66SfXCucOLGf/8tWouMZ+Yn5cIBZH3Lil+9Xq6/I0X2wbnuOLa/Hh3CkM+6UbG3DcMm4MZ/zkF1Qw0Klxh034dvc5yurvtxyeg/VIE9rw7jDtzApx+uRuMLhUg1KFrwsd2Z6Cn+LRo3TW8UyQCBiGgGyGdr8XTvZjTvmeRVndKD2qf82NZUMmeCA3nQh56RVOQ9bIdpHqDIEvrekHBjQnMpNMYkuNdloe3vzuI303A7ozLUBMfGvbjjvxvNNQj50IvKF+9A3UuF03KHxFwgHXXCs+wl1OVM/x4xQCAionEppypRfCoX9gEnPH/TjNZ7PPhOoADVX7kLvQedaLqrERd/WaK/cjckw1e+Ak404/dNU7yd8ZqEju9XYM/L/QigEM3TOUnvE44BAhERjSOApq0HYD9ejxtPWVB0zArH8d+jOdSl7T+UhfSaDLSPqp4yGZcC6cUNyPppDjq7d+G+ZHodoCAwOIDLV4cx8Os+9J/xoeeC6sESO9ox2jR+CWhiGCAQEVFiig+uujtRV2vFgcws1KY24o+/KIlc+fc/sxDrf7wN7aON4wYI0qG1yKoZ0CZPAxPKf/UR6nO06TRZDBCIiGhiAh4UpFUCDRfR+Vh4MCH4nIEDDzTjo+Pj/CaG0o+mZzyI/zNFU5GN8oYSTHLGBxlggEBERBPT6YRlZy+q1Q+CGqpF+kMHsDLeA3zolsXnIBAR0YT0/6YTwEasVj0lMuYnid/aC2er5scm6JbFAIGIiCZAQs8bCrApF9Fh/tBPEhdtg2N+AJ4fDeNvt0zpngSaQxggEBHR+JRBDFwAcgtyVPMMUpFbYAf6j8CZX4T+J1/mLYa3Ec5BICKiCVGuyMDdVt1EREUO4MY82+SeNHhNhvyfrLBqNzpRHwYQuMc2wecvUDLYg0BERBNiMggOAMBknWRwAAkHclOQ3+zXLhhHAIMnmlC7fS0W3v8cZuKmSWIPAhER3USKLANW48AjPgVy4AbukD1Ym3kOdRN6QBMliz0IRER0UyiyDMxPNjgAABOsNmtyv/1ASWOAQEREs046vBcHjrmwdlUtpFCaciWAQCDxS9b8lDPNHAYIREQ0u6554blahpoME/w3gBsAAAX+wT70nUn8kq5oN0YzhXMQiIhodo0pUMZM6HtuISrv/g3Ouyb5c8+X3MhaxTkIM4UBAhERzb4xH5yf3Y/VfziNkjsVmOYD0q99kEa0GWMtyi5E9j2hPxggzCgGCERENOuU9mIs/JccXOy4Cw0/zkDdHjuUKwHIY9qcsUxWW/SZCQwQZhQDBCIimnXKqUqk1VvxzErA7qpDXlJPaB6EZ1cTeqRueN8KwL6pBKu/UIiaf8zjA5OmEQMEIiK6KSK3OfJ2xTmJAQIRERHp8DZHIiIi0mGAQERERDoMEIiIiEiHAQIRERHpMEAgIiIiHQYIREREpMMAgYiIiHQYIBAREZEOAwQiIiLSYYBAREREOgwQiIiISIcBAhEREekwQCAiIiIdBghERESkwwCBiIiIdBggEBERkQ4DBCIiItJhgEBEREQ6DBCIiIhIhwECERER6TBAICIiIh0GCERERKTDAIGIiIh0bukAwVdugaXcp02+hfnhfsiCrEN+7YKbTFOuS25kWSxwdmnzTcZc3WeVyexvlxMWSxbcl7QLkuMrt8DykBtzuHYmZjJ1eDO+411OWCxOzOI7UlwTOTYE80TbyETWuQntSusWaWdzPEDwwWmxwBLzmvuVSkS3q/AxKfFxyH8oCxaDgCicHn2pg0ij491NPpHRJ9qcDRCCXyQXVp0bxeho9NW+YxDSFK/K5obgwUB7ALklLKnC2dFRNG8KJ0wsap/JffYfypq5K23d/k7ApmaMjp5F1RLtguTkNY1i9O0qpGoX3GomU4cTNetXY3bYl3txPG479qPj55I2Eb5yC9J/XoLzquPZ+doMbTY4jsce80ab8rRZKCIVVW+zjmbK3AwQupxIr8lAu8EBNq9Jn0ZENHskAHZ4vxcnIO3aBxcccCxXJ/pw/Jgddf8jNthL3d3M4xnNWXMwQPDD/T0v7LXPY6IxYWy3ncGVRJcztsvO8EpT271nMH6s3U5M159mfcP3COlywmIpgheAd3swv/aq2leeeFsxy43KqhGbX/V+kauv2PIn7A245EZW+D0vuZFlSYdrCJBq0uOvO9V9Do1h65cHey/SayRgyIV0o3Ujwj0dvuC4ZUxdxO5/TNnU+wtVnWnKFLOO9qo2/Le6DYXKGdN+NWWPGSvVtj+jdbT1pOmejtsOYhj1CAXrJybtkhtZ6n1M9N7aOgR0dW4p98UdG473HfeVW2DZ7gXgRZFmWcLyhMTWh8GxI46MF+rgGPKgw+B75zvhhf3r27FKuwASPJ3GLXPytMctg33Qtptwewl/Jl3hetK2V4N1IkJj/5E86s820TIj2n3Q549/bDBqq1r6djauiXzHAf22DcoObfmNPiOM314n9t2dZmKueb9BZJozRcP72gV63WVmYTabRebBy6GUy6JhtVmYy7ojeS4fzBRmzfaC65WKSK73G0RmzHaEEK+VCrPZLEpfU+dRb6dblEbep1uUqvOG32N1g1BtUUO/TqT8MenBfOqydZfF7mOwrPHr7PLBzNiyvFYa3X5oPxPXR7Bckb91daFZHtdU9llVvnifc8L6Fqr3ipY92D6M0rT1odrfcJ2p3k+3zmulBn+ryxzcR6O0hJ+1mvY9tOXU1JOujtTtQMMor+E+h/8e5731y/X7GvksVPs7ke+4rh6E0fvp19N9R0PtXretGNE2fPlgpv6zeb9BZJpLRXfo/WLqV9cGtIy+H4ldPliqP7ZpPyNtPZSpPzP9cUq/jv6YqW2X6nIkWqajO9ao80/k2KA99mj/1uY3bmc68dq77vs2znnD4DMxbGfjtFej72My7WSy5miAkOgLGqWreKE9WMT7wsWmaxt0WEy60UEoJP6BIv5JW1uGIP1BTGgbh2H9aL8UseLtnxDxg4vYBjkLAUKifTagXa7925hROfUHEF05tftrWGeadbTtRfu30QHHYD/ifnahg4z2QKT7DFTvG3dbRjTtrLvMLDLLSvVpofcb7721dajdzzBtGcf/jhv8PYnyGOYxpPqcDb6Llw9mht7XIEAQIrK+8QlKtUz10m8jgQkd/0IM2lD8ddTpRt+jsETL9LSfd6yJHBu07xf790Tbmc4EvuPxthGTPsF2Nl57jfdeM20ODjEAQBITETPs8SdwXZIwCAe26yZG5WH7DmDwgh+AH9Ig4NiiH9DI2+IABqVgd9am51G3PNiNqe3Okt6VgGNFMd0/llUu6KcpTYz9Abs2KUo6BynSnRp+Bbv448n7dh3sx4ridn8BGbBrxkFTl2UAQ+cmvQ/JSrjPIeoutvSa6S1ZxrK4rSgOfZ1NyvJVGH/Ptfxwf8MFaUd7zERRaTA6zBN5bfdG1hq/HagssSMD4Yl4fkiDdpR8+3mURCbnBcfUSwpSJ/TeWtK7EuxfL4z/3VVL9B03NIHySOcgLS9B4VQ+wyVVqNvhhStyPPBhXw1CdRJPHppHRzE62g7HsSLD7mbtJMXxJnbGDL+o9zHu8U/NjlXqBhh3HfUxMxVVLzhC9astf6JlWvGPvWoTOTbEk1Q700n0HY9f9pjzxoTa2fjtNanv7jSaewHCEjsyIOHc9B7/p0FotuxoOzIMxtrttedjZx6Pjk7LLHZDy+tiZkKHX2d3x/kahGaQjx7PgGuVZdYb2ZSFxuaK0K6a/T35g8atzn+oCC7U4bzBzG3tySX4ag7O50mqHQRPCN4TPuBSBzwoQeGSVBR+3R5M6zoOr+bAl/C9b4LZKE/et+uAn3cETwZdx+HdUTfB73wemkfPo265OsBIVnD8O+bOiOMObaaZsak59D0c1M/9SLSM4krYXpP67k6fuRcghA9M8WYIJyPmKkjNh+PHwleNqbBnhA6E2lwnvAZXL8ErgPO1dkihA4P9gej/Z5x9FexxJkeNa1MzRkfPo275+JOlfCe8wI7t03ownSx/pwfScuMT4ifOJTeKaqCbDZ+oHetMsB2Er4R8nR4gdBWWWlAC+6AE34VB1ZVZEu+tov/OBK+kpm6C5TH4HvkvJFmAJVWoy3BhX5cf7u8Nou7bybTRYDmldyd5NdR1HF440B7vNti4x78E4q6jPmZGpe4+G+wNMVgn0bKgCX5OUzQz7Sx+2XXnjXHbWfxt6Uzwuztd5mCAAOQ1nUcdXEg3iDx95clETnl4vtYO7/bYdXzlRfAur8PzoW60cPdNzNBBlxNFx+zRL3yXM+6s0dSCEtiHXCjSzvpOOFvWjlXLw112SVhSiJLlElzf0M5219dVWKJlQV4UqWcGdzlRdMy4+8zYRA90k9tn3XDHJTeKNEMMujy3JR+cq1xAbbvhVWreFgdwrEh3B4Yz1C7Hbwcam7bDMeRCkbrbfIkdGUMuFNVIMSeL8d5bK+/bdbrvjP9QUcKhsrjsq2DXDEuOW55Nz6NO+z0yaFcTkbfFAe/3iuDJSNR7YHA8uOSGK6nvmYZuv31wxgzrGB3//HCXJ7r4MlpHe8xMtI1Ey/SMjr3+Q84kjvGJTWs70zAqu+68McF2Nl57TfTd9c3g01bnZIAQ7s6PdlFFX0VI9CXUS919FudrEeqWCW+jPfbhM0uqcPZcHaAeA9oO3XMYwrfnWcLdeuFtGK1vcWFVwqsJ9VhdMrespKLq7XAAFS2P64FEt4Wq5yykw/P185rhCAfaXzgX3d52LxzHxx/7VIuOkennaERNcp83NaN9h2ofvgHUaYcYVHNEZurLcrP5yoO3ierGKsP7u6kZo8cdMe3Usuoctkc+6/HagVawNw8xQwmhNO049bjvrWHwnSlCO9p3aDNOwJIq1O2QQt/x0IF03PIYfI++AbRPpot+0/Oog4SM8U70unlKHpSc03/PYspsUe2T1pIqtMcc245ju6b8+uNfOjwPJB6T169jcMwcVB9/igD18SLRMi2DdpD+81XjjNknwWD7k25nWgbb1p83JtjOxm2vyX53p8enhBBCm0ifIF3OUKOe3rFZosnwlYdORhxOIrrp5mgPAhF98gTHuSfd5U5E04oBAhHNvktuZMWMyfvhfih2bhAR3VwMEIho9i2xIyNmTD49eOtmvBn5RDTrOAeBiIiIdNiDQERERDoMEIiIiEiHAQIRERHpMEAgIiIiHQYIREREpMMAgYiIiHQYIBAREZEOAwQiIiLSYYBAREREOgwQiIiISOf/B6hdb46wKY+NAAAAAElFTkSuQmCC)"
      ],
      "metadata": {
        "id": "x6V-CqdSed6k"
      }
    },
    {
      "cell_type": "markdown",
      "source": [
        "##**Example**\n",
        "\n",
        "Suppose we want to predict house prices based on size:\n",
        "\n",
        "* Root node (all data): Average price = $300,000.\n",
        "\n",
        "* Split: If size < 1500 sqft, average = $220,000; else = $400,000.\n",
        "\n",
        "* Each region (leaf) gives the average price for that subset.\n",
        "\n",
        "---\n",
        "\n",
        "##**Advantages**\n",
        "\n",
        "* Simple to understand and interpret.\n",
        "\n",
        "* Can model nonlinear relationships.\n",
        "\n",
        "* Handles both numerical and categorical features.\n",
        "\n",
        "---\n",
        "\n",
        "##**Disadvantages**\n",
        "\n",
        "* Prone to overfitting if not pruned.\n",
        "\n",
        "* Predictions are piecewise constant (jumps instead of smooth curves)."
      ],
      "metadata": {
        "id": "c52OQUttmVe5"
      }
    },
    {
      "cell_type": "markdown",
      "source": [
        "# **Q12. What are the advantages and disadvantages of Decision Trees?**\n",
        "\n",
        "**ANS:**\n",
        "\n",
        "##**Advantages of Decision Trees**\n",
        "\n",
        "**1. Easy to Understand & Interpret**\n",
        "\n",
        "* Tree structure is intuitive (like a flowchart).\n",
        "\n",
        "* Even non-technical people can follow the decision-making process.\n",
        "\n",
        "**2. No Need for Feature Scaling**\n",
        "\n",
        "* Works well with raw data — no need for normalization or standardization.\n",
        "\n",
        "**3. Handles Both Data Types**\n",
        "\n",
        "* Can process numerical and categorical features.\n",
        "\n",
        "**4. Non-linear Relationships**\n",
        "\n",
        "* Can model complex decision boundaries, not restricted to linear models.\n",
        "\n",
        "**5. Feature Selection is Built-in**\n",
        "\n",
        "* Automatically selects the most informative features during splitting.\n",
        "\n",
        "**6. Robust to Irrelevant Features**\n",
        "\n",
        "* Unimportant features are less likely to be chosen for splits.\n",
        "\n",
        "**7. Fast Predictions**\n",
        "\n",
        "* Once trained, predictions are very quick (just follow the path down the tree).\n",
        "\n",
        "**8. Works with Missing Values**\n",
        "\n",
        "* Some implementations (like CART) can handle missing data by surrogate splits.\n",
        "\n",
        "---\n",
        "\n",
        "##**Disadvantages of Decision Trees**\n",
        "\n",
        "**1. Overfitting**\n",
        "\n",
        "* Trees can grow very deep and capture noise → poor generalization.\n",
        "\n",
        "**2. Instability**\n",
        "\n",
        "* Small changes in data can lead to a completely different tree structure.\n",
        "\n",
        "**3. Greedy Splitting**\n",
        "\n",
        "* Each split is chosen locally (best at that step), but may not lead to the globally optimal tree.\n",
        "\n",
        "**4. Biased Toward Features with Many Levels**\n",
        "\n",
        "* Features with many unique values (like IDs) may be favored for splits.\n",
        "\n",
        "**5. Not Smooth for Regression**\n",
        "\n",
        "* Predictions are piecewise constant (step function), not continuous.\n",
        "\n",
        "**6. Computationally Expensive for Large Datasets**\n",
        "\n",
        "* Building very deep trees can take time and memory.\n",
        "\n",
        "**7. Less Accurate as a Single Model**\n",
        "\n",
        "* Compared to advanced models (Random Forests, Gradient Boosted Trees, Neural Nets), single decision trees are usually weaker."
      ],
      "metadata": {
        "id": "n3VDiU3Ym1zi"
      }
    },
    {
      "cell_type": "markdown",
      "source": [
        "# **Q13. How does a Decision Tree handle missing values?**\n",
        "\n",
        "**ANS:**\n",
        "\n",
        "##**1. Ignore Samples with Missing Values (Basic Method)**\n",
        "\n",
        "* In some simple implementations, if a feature has missing values, those rows are ignored when calculating impurity (Gini/Entropy).\n",
        "\n",
        "* Drawback: Data loss.\n",
        "\n",
        "---\n",
        "\n",
        "##**2. Assign to the Most Frequent / Mean Value**\n",
        "\n",
        "* If a feature value is missing:\n",
        "\n",
        "  * For categorical features → assign the most frequent category.\n",
        "\n",
        "  * For numerical features → assign the mean/median.\n",
        "\n",
        "* This is more of a preprocessing step rather than built-in handling.\n",
        "\n",
        "---\n",
        "\n",
        "##**3. Surrogate Splits (Used in CART & C4.5)**\n",
        "\n",
        "* If the best splitting feature is missing for a sample:\n",
        "\n",
        "  * The tree looks for another feature (a surrogate) that gives a similar split.\n",
        "\n",
        "  * Example: If \"Income\" is missing, but \"Education Level\" correlates well with it, the split uses \"Education\" instead.\n",
        "\n",
        "* This is the most sophisticated built-in approach.\n",
        "\n",
        "---\n",
        "\n",
        "##**4. Distribute Samples Proportionally**\n",
        "\n",
        "* When a feature value is missing at a node:\n",
        "\n",
        "  * The instance is sent down all branches of the split, weighted by branch probabilities.\n",
        "\n",
        "  * Example: If 70% of data goes left and 30% right, the missing-value sample is split with those probabilities.\n",
        "\n",
        "---\n",
        "\n",
        "##**5. Separate “Missing” Category (for Categorical Features)**\n",
        "\n",
        "* Treat \"missing\" as its own category.\n",
        "\n",
        "* Example: Feature \"Color\" = {Red, Blue, Green, Missing}.\n",
        "\n",
        "---\n",
        "\n",
        "##**In Practice**\n",
        "\n",
        "* scikit-learn’s DecisionTreeClassifier/Regressor does not directly handle missing values → you must impute them before training.\n",
        "\n",
        "* CART, C4.5, and XGBoost support surrogate splits or proportional distribution."
      ],
      "metadata": {
        "id": "Gp05g94foTDr"
      }
    },
    {
      "cell_type": "markdown",
      "source": [
        "# **Q14. How does a Decision Tree handle categorical features?**\n",
        "\n",
        "**ANS**\n",
        "\n",
        "##**1. Binary Splits (CART algorithm – used in scikit-learn)**\n",
        "\n",
        "* For a categorical feature with 𝑘 categories, the algorithm tries all possible partitions of categories into two groups.\n",
        "\n",
        "* Example: Feature = \"Color\" = {Red, Blue, Green}\n",
        "Possible splits:\n",
        "\n",
        "  * {Red} vs {Blue, Green}\n",
        "\n",
        "  * {Blue} vs {Red, Green}\n",
        "\n",
        "  * {Green} vs {Red, Blue}\n",
        "\n",
        "* The split that maximizes information gain (entropy/gini reduction) is chosen.\n",
        "\n",
        "---\n",
        "\n",
        "##**2. Multiway Splits (ID3, C4.5)**\n",
        "\n",
        "* Some algorithms (like ID3, C4.5) create one branch per category.\n",
        "\n",
        "* Example: \"Color\" → branches: Red → … , Blue → … , Green → …\n",
        "\n",
        "* Works well for small numbers of categories, but can lead to very bushy trees if categories are many.\n",
        "\n",
        "---\n",
        "\n",
        "##**3. Ordinal Categorical Features**\n",
        "\n",
        "* If categories have a natural order (e.g., {Low, Medium, High}):\n",
        "\n",
        "  * Treat them as numerical values (e.g., Low=1, Medium=2, High=3).\n",
        "\n",
        "  * Splits are made using thresholds (e.g., \"≤ Medium\").\n",
        "\n",
        "---\n",
        "\n",
        "##**4. High-Cardinality Categorical Features**\n",
        "\n",
        "* If a feature has too many categories (e.g., ZIP codes, product IDs):\n",
        "\n",
        "  * Trees may overfit, since they can create very specific splits.\n",
        "\n",
        "* Common solutions:\n",
        "\n",
        "  * Group rare categories together.\n",
        "\n",
        "  * Use feature encoding (target encoding, embeddings) before training.\n",
        "\n",
        "---\n",
        "\n",
        "##**5. Handling Missing Categories**\n",
        "\n",
        "* \"Missing\" can be treated as its own category, or handled using surrogate splits.\n",
        "\n",
        "---\n",
        "\n",
        "##**In Practice**\n",
        "\n",
        "* **scikit-learn’s DecisionTreeClassifier** → converts categorical features into binary splits using one-hot encoding (indirectly, via preprocessing).\n",
        "\n",
        "* **C4.5 / XGBoost / LightGBM** → natively handle categorical features (efficient category partitioning)."
      ],
      "metadata": {
        "id": "v9Uj032ZpqlK"
      }
    },
    {
      "cell_type": "markdown",
      "source": [
        "# **Q15. What are some real-world applications of Decision Trees?**\n",
        "\n",
        "**ANS:**\n",
        "\n",
        "#**Real-World Applications of Decision Trees**\n",
        "\n",
        "##**1. Healthcare / Medical Diagnosis 🏥**\n",
        "\n",
        "* Predict whether a patient has a disease based on symptoms, test results, age, etc.\n",
        "\n",
        "* Example: Classifying patients as “diabetic” or “non-diabetic”.\n",
        "\n",
        "* Regression trees → Predicting disease progression (e.g., blood sugar level).\n",
        "\n",
        "---\n",
        "\n",
        "##**2. Finance & Banking 💰**\n",
        "\n",
        "* **Credit scoring:** Approve/reject loan applications based on income, credit history, employment.\n",
        "\n",
        "* **Fraud detection:** Classify transactions as fraudulent or legitimate.\n",
        "\n",
        "* **Stock price prediction:** Regression trees for continuous values.\n",
        "\n",
        "---\n",
        "\n",
        "##**3. Marketing & Customer Relationship Management 📢**\n",
        "\n",
        "* **Customer segmentation:** Group customers based on purchasing behavior.\n",
        "\n",
        "* **Churn prediction:** Will a customer leave the service?\n",
        "\n",
        "* **Recommendation systems:** Predicting product interest.\n",
        "\n",
        "##**4. Manufacturing & Quality Control 🏭**\n",
        "\n",
        "* Predict whether a product will pass/fail quality checks.\n",
        "\n",
        "* Identify root causes of defects.\n",
        "\n",
        "* Optimize maintenance schedules (predict machine breakdowns).\n",
        "\n",
        "##**5. Retail & E-Commerce 🛒**\n",
        "\n",
        "* Product recommendation based on previous purchases.\n",
        "\n",
        "* Predict demand for a product (regression tree).\n",
        "\n",
        "* Dynamic pricing decisions.\n",
        "\n",
        "##**6. Education 🎓**\n",
        "\n",
        "* Predicting student performance based on attendance, assignments, demographics.\n",
        "\n",
        "* Early warning systems for dropout risk.\n",
        "\n",
        "---\n",
        "\n",
        "##**7. Agriculture 🌱**\n",
        "\n",
        "* Predicting crop yield based on soil quality, rainfall, temperature.\n",
        "\n",
        "* Classifying types of plants or diseases affecting crops.\n",
        "\n",
        "##**8. Energy & Utilities ⚡**\n",
        "\n",
        "* Predicting electricity usage (demand forecasting).\n",
        "\n",
        "* Fault detection in power grids.\n",
        "\n",
        "##**9. Law & Crime Investigation ⚖️**\n",
        "\n",
        "* Predicting chances of recidivism (whether a criminal will re-offend).\n",
        "\n",
        "* Classifying legal cases for decision support."
      ],
      "metadata": {
        "id": "Zf3GvVsgrK3L"
      }
    },
    {
      "cell_type": "markdown",
      "source": [
        "# **Practical**\n",
        "\n",
        "#**Q16. Write a Python program to train a Decision Tree Classifier on the Iris dataset and print the model accuracy.**"
      ],
      "metadata": {
        "id": "dLXWB_6qs16k"
      }
    },
    {
      "cell_type": "code",
      "source": [
        "# Q16. Train a Decision Tree Classifier on the Iris dataset and print accuracy\n",
        "\n",
        "from sklearn.datasets import load_iris\n",
        "from sklearn.model_selection import train_test_split\n",
        "from sklearn.tree import DecisionTreeClassifier\n",
        "from sklearn.metrics import accuracy_score\n",
        "\n",
        "# 1. Load the Iris dataset\n",
        "iris = load_iris()\n",
        "X = iris.data      # Features\n",
        "y = iris.target    # Labels\n",
        "\n",
        "# 2. Split dataset into training and testing sets (80% train, 20% test)\n",
        "X_train, X_test, y_train, y_test = train_test_split(X, y, test_size=0.2, random_state=42)\n",
        "\n",
        "# 3. Initialize Decision Tree Classifier\n",
        "clf = DecisionTreeClassifier(random_state=42)\n",
        "\n",
        "# 4. Train the model\n",
        "clf.fit(X_train, y_train)\n",
        "\n",
        "# 5. Make predictions\n",
        "y_pred = clf.predict(X_test)\n",
        "\n",
        "# 6. Calculate accuracy\n",
        "accuracy = accuracy_score(y_test, y_pred)\n",
        "\n",
        "# 7. Print accuracy\n",
        "print(\"Decision Tree Classifier Accuracy:\", accuracy)\n"
      ],
      "metadata": {
        "colab": {
          "base_uri": "https://localhost:8080/"
        },
        "id": "EITwSmGFtO-P",
        "outputId": "58ac6032-7089-450d-ff41-ab0c255379a6"
      },
      "execution_count": null,
      "outputs": [
        {
          "output_type": "stream",
          "name": "stdout",
          "text": [
            "Decision Tree Classifier Accuracy: 1.0\n"
          ]
        }
      ]
    },
    {
      "cell_type": "markdown",
      "source": [
        "# **Q17. Write a Python program to train a Decision Tree Classifier using Gini Impurity as the criterion and print the feature importances.**"
      ],
      "metadata": {
        "id": "LIUPR4hFtWOV"
      }
    },
    {
      "cell_type": "code",
      "source": [
        "# Q17. Train a Decision Tree Classifier using Gini Impurity and print feature importances\n",
        "\n",
        "# Import necessary libraries\n",
        "from sklearn.datasets import load_iris\n",
        "from sklearn.model_selection import train_test_split\n",
        "from sklearn.tree import DecisionTreeClassifier\n",
        "from sklearn.metrics import accuracy_score\n",
        "\n",
        "# Load the Iris dataset\n",
        "iris = load_iris()\n",
        "X = iris.data\n",
        "y = iris.target\n",
        "\n",
        "# Split the dataset into training and testing sets\n",
        "X_train, X_test, y_train, y_test = train_test_split(X, y, test_size=0.2, random_state=42)\n",
        "\n",
        "# Create a Decision Tree Classifier using Gini Impurity as the criterion\n",
        "clf = DecisionTreeClassifier(criterion='gini', random_state=42)\n",
        "\n",
        "# Train the model on the training data\n",
        "clf.fit(X_train, y_train)\n",
        "\n",
        "# Make predictions on the testing data\n",
        "y_pred = clf.predict(X_test)\n",
        "\n",
        "# Calculate and print the model accuracy\n",
        "accuracy = accuracy_score(y_test, y_pred)\n",
        "print(\"Model Accuracy:\", accuracy)\n",
        "\n",
        "# Print the feature importances\n",
        "print(\"Feature Importances:\")\n",
        "for feature, importance in zip(iris.feature_names, clf.feature_importances_):\n",
        "    print(f\"{feature}: {importance:.2f}\")"
      ],
      "metadata": {
        "colab": {
          "base_uri": "https://localhost:8080/"
        },
        "id": "X4YLTktvtbSc",
        "outputId": "5f553a1d-c256-4304-9936-47e86ede425b"
      },
      "execution_count": null,
      "outputs": [
        {
          "output_type": "stream",
          "name": "stdout",
          "text": [
            "Model Accuracy: 1.0\n",
            "Feature Importances:\n",
            "sepal length (cm): 0.00\n",
            "sepal width (cm): 0.02\n",
            "petal length (cm): 0.91\n",
            "petal width (cm): 0.08\n"
          ]
        }
      ]
    },
    {
      "cell_type": "markdown",
      "source": [
        "# **Q18. Write a Python program to train a Decision Tree Classifier using Entropy as the splitting criterion and print the model accuracy.**"
      ],
      "metadata": {
        "id": "-nAl3fW7tsRT"
      }
    },
    {
      "cell_type": "code",
      "source": [
        "# Q18. Train a Decision Tree Classifier using Entropy and print model accuracy\n",
        "\n",
        "from sklearn.datasets import load_iris\n",
        "from sklearn.model_selection import train_test_split\n",
        "from sklearn.tree import DecisionTreeClassifier\n",
        "from sklearn.metrics import accuracy_score\n",
        "\n",
        "# 1. Load Iris dataset\n",
        "iris = load_iris()\n",
        "X = iris.data\n",
        "y = iris.target\n",
        "\n",
        "# 2. Split dataset (80% train, 20% test)\n",
        "X_train, X_test, y_train, y_test = train_test_split(X, y, test_size=0.2, random_state=42)\n",
        "\n",
        "# 3. Initialize Decision Tree with Entropy criterion\n",
        "clf = DecisionTreeClassifier(criterion=\"entropy\", random_state=42)\n",
        "\n",
        "# 4. Train the model\n",
        "clf.fit(X_train, y_train)\n",
        "\n",
        "# 5. Make predictions\n",
        "y_pred = clf.predict(X_test)\n",
        "\n",
        "# 6. Calculate accuracy\n",
        "accuracy = accuracy_score(y_test, y_pred)\n",
        "\n",
        "# 7. Print accuracy\n",
        "print(\"Decision Tree Classifier Accuracy (Entropy):\", accuracy)\n"
      ],
      "metadata": {
        "colab": {
          "base_uri": "https://localhost:8080/"
        },
        "id": "0tWCwV8CuA53",
        "outputId": "651249cf-30fb-49d7-d0da-da435a8828c7"
      },
      "execution_count": null,
      "outputs": [
        {
          "output_type": "stream",
          "name": "stdout",
          "text": [
            "Decision Tree Classifier Accuracy (Entropy): 1.0\n"
          ]
        }
      ]
    },
    {
      "cell_type": "markdown",
      "source": [
        "# **Q19. Write a Python program to train a Decision Tree Regressor on a housing dataset and evaluate using Mean Squared Error (MSE).**"
      ],
      "metadata": {
        "id": "P11o4dFmudXd"
      }
    },
    {
      "cell_type": "code",
      "source": [
        "# Q19. Train a Decision Tree Regressor on a housing dataset and evaluate using MSE\n",
        "\n",
        "# Import necessary libraries\n",
        "from sklearn.datasets import fetch_california_housing\n",
        "from sklearn.model_selection import train_test_split\n",
        "from sklearn.tree import DecisionTreeRegressor\n",
        "from sklearn.metrics import mean_squared_error\n",
        "import numpy as np\n",
        "\n",
        "# Load the California housing dataset\n",
        "housing = fetch_california_housing()\n",
        "X = housing.data\n",
        "y = housing.target\n",
        "\n",
        "# Split the dataset into training and testing sets\n",
        "X_train, X_test, y_train, y_test = train_test_split(X, y, test_size=0.2, random_state=42)\n",
        "\n",
        "# Create a Decision Tree Regressor\n",
        "dtr = DecisionTreeRegressor(random_state=42)\n",
        "\n",
        "# Train the model on the training data\n",
        "dtr.fit(X_train, y_train)\n",
        "\n",
        "# Make predictions on the testing data\n",
        "y_pred = dtr.predict(X_test)\n",
        "\n",
        "# Evaluate the model using Mean Squared Error (MSE)\n",
        "mse = mean_squared_error(y_test, y_pred)\n",
        "print(\"Mean Squared Error (MSE):\", mse)\n",
        "\n",
        "# Evaluate the model using Root Mean Squared Error (RMSE)\n",
        "rmse = np.sqrt(mse)\n",
        "print(\"Root Mean Squared Error (RMSE):\", rmse)"
      ],
      "metadata": {
        "colab": {
          "base_uri": "https://localhost:8080/"
        },
        "id": "0Yu7wnUGurPd",
        "outputId": "62688fc4-46c5-4099-b5fb-2dacfd6ed835"
      },
      "execution_count": null,
      "outputs": [
        {
          "output_type": "stream",
          "name": "stdout",
          "text": [
            "Mean Squared Error (MSE): 0.495235205629094\n",
            "Root Mean Squared Error (RMSE): 0.7037294974840077\n"
          ]
        }
      ]
    },
    {
      "cell_type": "markdown",
      "source": [
        "# **Q20. Write a Python program to train a Decision Tree Classifier and visualize the tree using graphviz.**"
      ],
      "metadata": {
        "id": "Q0dUDpptvVjM"
      }
    },
    {
      "cell_type": "code",
      "source": [
        "# Install required libraries (only run once in Colab)\n",
        "# !pip install graphviz scikit-learn\n",
        "# !apt-get install graphviz -y   # Only for Colab/Linux\n",
        "\n",
        "from sklearn.datasets import load_iris\n",
        "from sklearn.model_selection import train_test_split\n",
        "from sklearn.tree import DecisionTreeClassifier, export_graphviz\n",
        "import graphviz\n",
        "\n",
        "# Load the Iris dataset\n",
        "iris = load_iris()\n",
        "X = iris.data\n",
        "y = iris.target\n",
        "\n",
        "# Split the dataset\n",
        "X_train, X_test, y_train, y_test = train_test_split(X, y, test_size=0.2, random_state=42)\n",
        "\n",
        "# Create and train Decision Tree\n",
        "clf = DecisionTreeClassifier(random_state=42)\n",
        "clf.fit(X_train, y_train)\n",
        "\n",
        "# Export decision tree as DOT format\n",
        "dot_data = export_graphviz(\n",
        "    clf,\n",
        "    out_file=None,\n",
        "    feature_names=iris.feature_names,\n",
        "    class_names=iris.target_names,\n",
        "    filled=True,\n",
        "    rounded=True,\n",
        "    special_characters=True\n",
        ")\n",
        "\n",
        "# Visualize directly in Jupyter/Colab\n",
        "graph = graphviz.Source(dot_data)\n",
        "graph  # <-- This will display the tree inline"
      ],
      "metadata": {
        "colab": {
          "base_uri": "https://localhost:8080/",
          "height": 1000
        },
        "id": "hOxAB5idk_js",
        "outputId": "b889afff-440e-4e8b-afb1-27a0fca2339c"
      },
      "execution_count": 5,
      "outputs": [
        {
          "output_type": "execute_result",
          "data": {
            "image/svg+xml": "<?xml version=\"1.0\" encoding=\"UTF-8\" standalone=\"no\"?>\n<!DOCTYPE svg PUBLIC \"-//W3C//DTD SVG 1.1//EN\"\n \"http://www.w3.org/Graphics/SVG/1.1/DTD/svg11.dtd\">\n<!-- Generated by graphviz version 2.43.0 (0)\n -->\n<!-- Title: Tree Pages: 1 -->\n<svg width=\"751pt\" height=\"790pt\"\n viewBox=\"0.00 0.00 751.00 790.00\" xmlns=\"http://www.w3.org/2000/svg\" xmlns:xlink=\"http://www.w3.org/1999/xlink\">\n<g id=\"graph0\" class=\"graph\" transform=\"scale(1 1) rotate(0) translate(4 786)\">\n<title>Tree</title>\n<polygon fill=\"white\" stroke=\"transparent\" points=\"-4,4 -4,-786 747,-786 747,4 -4,4\"/>\n<!-- 0 -->\n<g id=\"node1\" class=\"node\">\n<title>0</title>\n<path fill=\"#fdfffd\" stroke=\"black\" d=\"M266,-782C266,-782 131,-782 131,-782 125,-782 119,-776 119,-770 119,-770 119,-711 119,-711 119,-705 125,-699 131,-699 131,-699 266,-699 266,-699 272,-699 278,-705 278,-711 278,-711 278,-770 278,-770 278,-776 272,-782 266,-782\"/>\n<text text-anchor=\"start\" x=\"127\" y=\"-766.8\" font-family=\"Helvetica,sans-Serif\" font-size=\"14.00\">petal length (cm) ≤ 2.45</text>\n<text text-anchor=\"start\" x=\"163\" y=\"-751.8\" font-family=\"Helvetica,sans-Serif\" font-size=\"14.00\">gini = 0.667</text>\n<text text-anchor=\"start\" x=\"153.5\" y=\"-736.8\" font-family=\"Helvetica,sans-Serif\" font-size=\"14.00\">samples = 120</text>\n<text text-anchor=\"start\" x=\"140.5\" y=\"-721.8\" font-family=\"Helvetica,sans-Serif\" font-size=\"14.00\">value = [40, 41, 39]</text>\n<text text-anchor=\"start\" x=\"146\" y=\"-706.8\" font-family=\"Helvetica,sans-Serif\" font-size=\"14.00\">class = versicolor</text>\n</g>\n<!-- 1 -->\n<g id=\"node2\" class=\"node\">\n<title>1</title>\n<path fill=\"#e58139\" stroke=\"black\" d=\"M167,-655.5C167,-655.5 74,-655.5 74,-655.5 68,-655.5 62,-649.5 62,-643.5 62,-643.5 62,-599.5 62,-599.5 62,-593.5 68,-587.5 74,-587.5 74,-587.5 167,-587.5 167,-587.5 173,-587.5 179,-593.5 179,-599.5 179,-599.5 179,-643.5 179,-643.5 179,-649.5 173,-655.5 167,-655.5\"/>\n<text text-anchor=\"start\" x=\"92.5\" y=\"-640.3\" font-family=\"Helvetica,sans-Serif\" font-size=\"14.00\">gini = 0.0</text>\n<text text-anchor=\"start\" x=\"79.5\" y=\"-625.3\" font-family=\"Helvetica,sans-Serif\" font-size=\"14.00\">samples = 40</text>\n<text text-anchor=\"start\" x=\"70\" y=\"-610.3\" font-family=\"Helvetica,sans-Serif\" font-size=\"14.00\">value = [40, 0, 0]</text>\n<text text-anchor=\"start\" x=\"77\" y=\"-595.3\" font-family=\"Helvetica,sans-Serif\" font-size=\"14.00\">class = setosa</text>\n</g>\n<!-- 0&#45;&gt;1 -->\n<g id=\"edge1\" class=\"edge\">\n<title>0&#45;&gt;1</title>\n<path fill=\"none\" stroke=\"black\" d=\"M171.44,-698.91C163.93,-687.65 155.78,-675.42 148.24,-664.11\"/>\n<polygon fill=\"black\" stroke=\"black\" points=\"151.07,-662.05 142.61,-655.67 145.25,-665.93 151.07,-662.05\"/>\n<text text-anchor=\"middle\" x=\"137.71\" y=\"-676.48\" font-family=\"Helvetica,sans-Serif\" font-size=\"14.00\">True</text>\n</g>\n<!-- 2 -->\n<g id=\"node3\" class=\"node\">\n<title>2</title>\n<path fill=\"#f5fef9\" stroke=\"black\" d=\"M344,-663C344,-663 209,-663 209,-663 203,-663 197,-657 197,-651 197,-651 197,-592 197,-592 197,-586 203,-580 209,-580 209,-580 344,-580 344,-580 350,-580 356,-586 356,-592 356,-592 356,-651 356,-651 356,-657 350,-663 344,-663\"/>\n<text text-anchor=\"start\" x=\"205\" y=\"-647.8\" font-family=\"Helvetica,sans-Serif\" font-size=\"14.00\">petal length (cm) ≤ 4.75</text>\n<text text-anchor=\"start\" x=\"248.5\" y=\"-632.8\" font-family=\"Helvetica,sans-Serif\" font-size=\"14.00\">gini = 0.5</text>\n<text text-anchor=\"start\" x=\"235.5\" y=\"-617.8\" font-family=\"Helvetica,sans-Serif\" font-size=\"14.00\">samples = 80</text>\n<text text-anchor=\"start\" x=\"222\" y=\"-602.8\" font-family=\"Helvetica,sans-Serif\" font-size=\"14.00\">value = [0, 41, 39]</text>\n<text text-anchor=\"start\" x=\"224\" y=\"-587.8\" font-family=\"Helvetica,sans-Serif\" font-size=\"14.00\">class = versicolor</text>\n</g>\n<!-- 0&#45;&gt;2 -->\n<g id=\"edge2\" class=\"edge\">\n<title>0&#45;&gt;2</title>\n<path fill=\"none\" stroke=\"black\" d=\"M225.56,-698.91C231.43,-690.1 237.7,-680.7 243.76,-671.61\"/>\n<polygon fill=\"black\" stroke=\"black\" points=\"246.85,-673.28 249.49,-663.02 241.03,-669.4 246.85,-673.28\"/>\n<text text-anchor=\"middle\" x=\"254.39\" y=\"-683.84\" font-family=\"Helvetica,sans-Serif\" font-size=\"14.00\">False</text>\n</g>\n<!-- 3 -->\n<g id=\"node4\" class=\"node\">\n<title>3</title>\n<path fill=\"#3ee684\" stroke=\"black\" d=\"M255.5,-544C255.5,-544 125.5,-544 125.5,-544 119.5,-544 113.5,-538 113.5,-532 113.5,-532 113.5,-473 113.5,-473 113.5,-467 119.5,-461 125.5,-461 125.5,-461 255.5,-461 255.5,-461 261.5,-461 267.5,-467 267.5,-473 267.5,-473 267.5,-532 267.5,-532 267.5,-538 261.5,-544 255.5,-544\"/>\n<text text-anchor=\"start\" x=\"121.5\" y=\"-528.8\" font-family=\"Helvetica,sans-Serif\" font-size=\"14.00\">petal width (cm) ≤ 1.65</text>\n<text text-anchor=\"start\" x=\"155\" y=\"-513.8\" font-family=\"Helvetica,sans-Serif\" font-size=\"14.00\">gini = 0.053</text>\n<text text-anchor=\"start\" x=\"149.5\" y=\"-498.8\" font-family=\"Helvetica,sans-Serif\" font-size=\"14.00\">samples = 37</text>\n<text text-anchor=\"start\" x=\"140\" y=\"-483.8\" font-family=\"Helvetica,sans-Serif\" font-size=\"14.00\">value = [0, 36, 1]</text>\n<text text-anchor=\"start\" x=\"138\" y=\"-468.8\" font-family=\"Helvetica,sans-Serif\" font-size=\"14.00\">class = versicolor</text>\n</g>\n<!-- 2&#45;&gt;3 -->\n<g id=\"edge3\" class=\"edge\">\n<title>2&#45;&gt;3</title>\n<path fill=\"none\" stroke=\"black\" d=\"M246.66,-579.91C240.13,-571.01 233.14,-561.51 226.39,-552.33\"/>\n<polygon fill=\"black\" stroke=\"black\" points=\"229.03,-550.01 220.28,-544.02 223.39,-554.15 229.03,-550.01\"/>\n</g>\n<!-- 6 -->\n<g id=\"node7\" class=\"node\">\n<title>6</title>\n<path fill=\"#9253e8\" stroke=\"black\" d=\"M427.5,-544C427.5,-544 297.5,-544 297.5,-544 291.5,-544 285.5,-538 285.5,-532 285.5,-532 285.5,-473 285.5,-473 285.5,-467 291.5,-461 297.5,-461 297.5,-461 427.5,-461 427.5,-461 433.5,-461 439.5,-467 439.5,-473 439.5,-473 439.5,-532 439.5,-532 439.5,-538 433.5,-544 427.5,-544\"/>\n<text text-anchor=\"start\" x=\"293.5\" y=\"-528.8\" font-family=\"Helvetica,sans-Serif\" font-size=\"14.00\">petal width (cm) ≤ 1.75</text>\n<text text-anchor=\"start\" x=\"327\" y=\"-513.8\" font-family=\"Helvetica,sans-Serif\" font-size=\"14.00\">gini = 0.206</text>\n<text text-anchor=\"start\" x=\"321.5\" y=\"-498.8\" font-family=\"Helvetica,sans-Serif\" font-size=\"14.00\">samples = 43</text>\n<text text-anchor=\"start\" x=\"312\" y=\"-483.8\" font-family=\"Helvetica,sans-Serif\" font-size=\"14.00\">value = [0, 5, 38]</text>\n<text text-anchor=\"start\" x=\"314\" y=\"-468.8\" font-family=\"Helvetica,sans-Serif\" font-size=\"14.00\">class = virginica</text>\n</g>\n<!-- 2&#45;&gt;6 -->\n<g id=\"edge6\" class=\"edge\">\n<title>2&#45;&gt;6</title>\n<path fill=\"none\" stroke=\"black\" d=\"M306.34,-579.91C312.87,-571.01 319.86,-561.51 326.61,-552.33\"/>\n<polygon fill=\"black\" stroke=\"black\" points=\"329.61,-554.15 332.72,-544.02 323.97,-550.01 329.61,-554.15\"/>\n</g>\n<!-- 4 -->\n<g id=\"node5\" class=\"node\">\n<title>4</title>\n<path fill=\"#39e581\" stroke=\"black\" d=\"M109,-417.5C109,-417.5 12,-417.5 12,-417.5 6,-417.5 0,-411.5 0,-405.5 0,-405.5 0,-361.5 0,-361.5 0,-355.5 6,-349.5 12,-349.5 12,-349.5 109,-349.5 109,-349.5 115,-349.5 121,-355.5 121,-361.5 121,-361.5 121,-405.5 121,-405.5 121,-411.5 115,-417.5 109,-417.5\"/>\n<text text-anchor=\"start\" x=\"32.5\" y=\"-402.3\" font-family=\"Helvetica,sans-Serif\" font-size=\"14.00\">gini = 0.0</text>\n<text text-anchor=\"start\" x=\"19.5\" y=\"-387.3\" font-family=\"Helvetica,sans-Serif\" font-size=\"14.00\">samples = 36</text>\n<text text-anchor=\"start\" x=\"10\" y=\"-372.3\" font-family=\"Helvetica,sans-Serif\" font-size=\"14.00\">value = [0, 36, 0]</text>\n<text text-anchor=\"start\" x=\"8\" y=\"-357.3\" font-family=\"Helvetica,sans-Serif\" font-size=\"14.00\">class = versicolor</text>\n</g>\n<!-- 3&#45;&gt;4 -->\n<g id=\"edge4\" class=\"edge\">\n<title>3&#45;&gt;4</title>\n<path fill=\"none\" stroke=\"black\" d=\"M145.4,-460.91C132.28,-449.1 117.96,-436.22 104.89,-424.45\"/>\n<polygon fill=\"black\" stroke=\"black\" points=\"107.13,-421.76 97.35,-417.67 102.44,-426.96 107.13,-421.76\"/>\n</g>\n<!-- 5 -->\n<g id=\"node6\" class=\"node\">\n<title>5</title>\n<path fill=\"#8139e5\" stroke=\"black\" d=\"M240,-417.5C240,-417.5 151,-417.5 151,-417.5 145,-417.5 139,-411.5 139,-405.5 139,-405.5 139,-361.5 139,-361.5 139,-355.5 145,-349.5 151,-349.5 151,-349.5 240,-349.5 240,-349.5 246,-349.5 252,-355.5 252,-361.5 252,-361.5 252,-405.5 252,-405.5 252,-411.5 246,-417.5 240,-417.5\"/>\n<text text-anchor=\"start\" x=\"167.5\" y=\"-402.3\" font-family=\"Helvetica,sans-Serif\" font-size=\"14.00\">gini = 0.0</text>\n<text text-anchor=\"start\" x=\"158\" y=\"-387.3\" font-family=\"Helvetica,sans-Serif\" font-size=\"14.00\">samples = 1</text>\n<text text-anchor=\"start\" x=\"148.5\" y=\"-372.3\" font-family=\"Helvetica,sans-Serif\" font-size=\"14.00\">value = [0, 0, 1]</text>\n<text text-anchor=\"start\" x=\"147\" y=\"-357.3\" font-family=\"Helvetica,sans-Serif\" font-size=\"14.00\">class = virginica</text>\n</g>\n<!-- 3&#45;&gt;5 -->\n<g id=\"edge5\" class=\"edge\">\n<title>3&#45;&gt;5</title>\n<path fill=\"none\" stroke=\"black\" d=\"M192.23,-460.91C192.69,-450.2 193.19,-438.62 193.65,-427.78\"/>\n<polygon fill=\"black\" stroke=\"black\" points=\"197.15,-427.81 194.08,-417.67 190.16,-427.51 197.15,-427.81\"/>\n</g>\n<!-- 7 -->\n<g id=\"node8\" class=\"node\">\n<title>7</title>\n<path fill=\"#ffffff\" stroke=\"black\" d=\"M426,-425C426,-425 291,-425 291,-425 285,-425 279,-419 279,-413 279,-413 279,-354 279,-354 279,-348 285,-342 291,-342 291,-342 426,-342 426,-342 432,-342 438,-348 438,-354 438,-354 438,-413 438,-413 438,-419 432,-425 426,-425\"/>\n<text text-anchor=\"start\" x=\"287\" y=\"-409.8\" font-family=\"Helvetica,sans-Serif\" font-size=\"14.00\">petal length (cm) ≤ 4.95</text>\n<text text-anchor=\"start\" x=\"330.5\" y=\"-394.8\" font-family=\"Helvetica,sans-Serif\" font-size=\"14.00\">gini = 0.5</text>\n<text text-anchor=\"start\" x=\"321\" y=\"-379.8\" font-family=\"Helvetica,sans-Serif\" font-size=\"14.00\">samples = 8</text>\n<text text-anchor=\"start\" x=\"311.5\" y=\"-364.8\" font-family=\"Helvetica,sans-Serif\" font-size=\"14.00\">value = [0, 4, 4]</text>\n<text text-anchor=\"start\" x=\"306\" y=\"-349.8\" font-family=\"Helvetica,sans-Serif\" font-size=\"14.00\">class = versicolor</text>\n</g>\n<!-- 6&#45;&gt;7 -->\n<g id=\"edge7\" class=\"edge\">\n<title>6&#45;&gt;7</title>\n<path fill=\"none\" stroke=\"black\" d=\"M361.11,-460.91C360.83,-452.56 360.52,-443.67 360.23,-435.02\"/>\n<polygon fill=\"black\" stroke=\"black\" points=\"363.73,-434.9 359.89,-425.02 356.73,-435.13 363.73,-434.9\"/>\n</g>\n<!-- 14 -->\n<g id=\"node15\" class=\"node\">\n<title>14</title>\n<path fill=\"#853fe6\" stroke=\"black\" d=\"M603,-425C603,-425 468,-425 468,-425 462,-425 456,-419 456,-413 456,-413 456,-354 456,-354 456,-348 462,-342 468,-342 468,-342 603,-342 603,-342 609,-342 615,-348 615,-354 615,-354 615,-413 615,-413 615,-419 609,-425 603,-425\"/>\n<text text-anchor=\"start\" x=\"464\" y=\"-409.8\" font-family=\"Helvetica,sans-Serif\" font-size=\"14.00\">petal length (cm) ≤ 4.85</text>\n<text text-anchor=\"start\" x=\"500\" y=\"-394.8\" font-family=\"Helvetica,sans-Serif\" font-size=\"14.00\">gini = 0.056</text>\n<text text-anchor=\"start\" x=\"494.5\" y=\"-379.8\" font-family=\"Helvetica,sans-Serif\" font-size=\"14.00\">samples = 35</text>\n<text text-anchor=\"start\" x=\"485\" y=\"-364.8\" font-family=\"Helvetica,sans-Serif\" font-size=\"14.00\">value = [0, 1, 34]</text>\n<text text-anchor=\"start\" x=\"487\" y=\"-349.8\" font-family=\"Helvetica,sans-Serif\" font-size=\"14.00\">class = virginica</text>\n</g>\n<!-- 6&#45;&gt;14 -->\n<g id=\"edge14\" class=\"edge\">\n<title>6&#45;&gt;14</title>\n<path fill=\"none\" stroke=\"black\" d=\"M422.52,-460.91C436.88,-451.2 452.31,-440.76 467.02,-430.81\"/>\n<polygon fill=\"black\" stroke=\"black\" points=\"469.26,-433.52 475.58,-425.02 465.34,-427.72 469.26,-433.52\"/>\n</g>\n<!-- 8 -->\n<g id=\"node9\" class=\"node\">\n<title>8</title>\n<path fill=\"#39e581\" stroke=\"black\" d=\"M254,-298.5C254,-298.5 157,-298.5 157,-298.5 151,-298.5 145,-292.5 145,-286.5 145,-286.5 145,-242.5 145,-242.5 145,-236.5 151,-230.5 157,-230.5 157,-230.5 254,-230.5 254,-230.5 260,-230.5 266,-236.5 266,-242.5 266,-242.5 266,-286.5 266,-286.5 266,-292.5 260,-298.5 254,-298.5\"/>\n<text text-anchor=\"start\" x=\"177.5\" y=\"-283.3\" font-family=\"Helvetica,sans-Serif\" font-size=\"14.00\">gini = 0.0</text>\n<text text-anchor=\"start\" x=\"168\" y=\"-268.3\" font-family=\"Helvetica,sans-Serif\" font-size=\"14.00\">samples = 2</text>\n<text text-anchor=\"start\" x=\"158.5\" y=\"-253.3\" font-family=\"Helvetica,sans-Serif\" font-size=\"14.00\">value = [0, 2, 0]</text>\n<text text-anchor=\"start\" x=\"153\" y=\"-238.3\" font-family=\"Helvetica,sans-Serif\" font-size=\"14.00\">class = versicolor</text>\n</g>\n<!-- 7&#45;&gt;8 -->\n<g id=\"edge8\" class=\"edge\">\n<title>7&#45;&gt;8</title>\n<path fill=\"none\" stroke=\"black\" d=\"M305.42,-341.91C289.69,-329.88 272.5,-316.73 256.88,-304.79\"/>\n<polygon fill=\"black\" stroke=\"black\" points=\"258.94,-301.96 248.87,-298.67 254.69,-307.52 258.94,-301.96\"/>\n</g>\n<!-- 9 -->\n<g id=\"node10\" class=\"node\">\n<title>9</title>\n<path fill=\"#c09cf2\" stroke=\"black\" d=\"M426.5,-306C426.5,-306 296.5,-306 296.5,-306 290.5,-306 284.5,-300 284.5,-294 284.5,-294 284.5,-235 284.5,-235 284.5,-229 290.5,-223 296.5,-223 296.5,-223 426.5,-223 426.5,-223 432.5,-223 438.5,-229 438.5,-235 438.5,-235 438.5,-294 438.5,-294 438.5,-300 432.5,-306 426.5,-306\"/>\n<text text-anchor=\"start\" x=\"292.5\" y=\"-290.8\" font-family=\"Helvetica,sans-Serif\" font-size=\"14.00\">petal width (cm) ≤ 1.55</text>\n<text text-anchor=\"start\" x=\"326\" y=\"-275.8\" font-family=\"Helvetica,sans-Serif\" font-size=\"14.00\">gini = 0.444</text>\n<text text-anchor=\"start\" x=\"324\" y=\"-260.8\" font-family=\"Helvetica,sans-Serif\" font-size=\"14.00\">samples = 6</text>\n<text text-anchor=\"start\" x=\"314.5\" y=\"-245.8\" font-family=\"Helvetica,sans-Serif\" font-size=\"14.00\">value = [0, 2, 4]</text>\n<text text-anchor=\"start\" x=\"313\" y=\"-230.8\" font-family=\"Helvetica,sans-Serif\" font-size=\"14.00\">class = virginica</text>\n</g>\n<!-- 7&#45;&gt;9 -->\n<g id=\"edge9\" class=\"edge\">\n<title>7&#45;&gt;9</title>\n<path fill=\"none\" stroke=\"black\" d=\"M359.54,-341.91C359.75,-333.56 359.98,-324.67 360.2,-316.02\"/>\n<polygon fill=\"black\" stroke=\"black\" points=\"363.7,-316.11 360.46,-306.02 356.71,-315.93 363.7,-316.11\"/>\n</g>\n<!-- 10 -->\n<g id=\"node11\" class=\"node\">\n<title>10</title>\n<path fill=\"#8139e5\" stroke=\"black\" d=\"M256,-179.5C256,-179.5 167,-179.5 167,-179.5 161,-179.5 155,-173.5 155,-167.5 155,-167.5 155,-123.5 155,-123.5 155,-117.5 161,-111.5 167,-111.5 167,-111.5 256,-111.5 256,-111.5 262,-111.5 268,-117.5 268,-123.5 268,-123.5 268,-167.5 268,-167.5 268,-173.5 262,-179.5 256,-179.5\"/>\n<text text-anchor=\"start\" x=\"183.5\" y=\"-164.3\" font-family=\"Helvetica,sans-Serif\" font-size=\"14.00\">gini = 0.0</text>\n<text text-anchor=\"start\" x=\"174\" y=\"-149.3\" font-family=\"Helvetica,sans-Serif\" font-size=\"14.00\">samples = 3</text>\n<text text-anchor=\"start\" x=\"164.5\" y=\"-134.3\" font-family=\"Helvetica,sans-Serif\" font-size=\"14.00\">value = [0, 0, 3]</text>\n<text text-anchor=\"start\" x=\"163\" y=\"-119.3\" font-family=\"Helvetica,sans-Serif\" font-size=\"14.00\">class = virginica</text>\n</g>\n<!-- 9&#45;&gt;10 -->\n<g id=\"edge10\" class=\"edge\">\n<title>9&#45;&gt;10</title>\n<path fill=\"none\" stroke=\"black\" d=\"M309.46,-222.91C294.18,-210.99 277.49,-197.98 262.29,-186.12\"/>\n<polygon fill=\"black\" stroke=\"black\" points=\"264.06,-183.06 254.02,-179.67 259.75,-188.58 264.06,-183.06\"/>\n</g>\n<!-- 11 -->\n<g id=\"node12\" class=\"node\">\n<title>11</title>\n<path fill=\"#9cf2c0\" stroke=\"black\" d=\"M433,-187C433,-187 298,-187 298,-187 292,-187 286,-181 286,-175 286,-175 286,-116 286,-116 286,-110 292,-104 298,-104 298,-104 433,-104 433,-104 439,-104 445,-110 445,-116 445,-116 445,-175 445,-175 445,-181 439,-187 433,-187\"/>\n<text text-anchor=\"start\" x=\"294\" y=\"-171.8\" font-family=\"Helvetica,sans-Serif\" font-size=\"14.00\">petal length (cm) ≤ 5.45</text>\n<text text-anchor=\"start\" x=\"330\" y=\"-156.8\" font-family=\"Helvetica,sans-Serif\" font-size=\"14.00\">gini = 0.444</text>\n<text text-anchor=\"start\" x=\"328\" y=\"-141.8\" font-family=\"Helvetica,sans-Serif\" font-size=\"14.00\">samples = 3</text>\n<text text-anchor=\"start\" x=\"318.5\" y=\"-126.8\" font-family=\"Helvetica,sans-Serif\" font-size=\"14.00\">value = [0, 2, 1]</text>\n<text text-anchor=\"start\" x=\"313\" y=\"-111.8\" font-family=\"Helvetica,sans-Serif\" font-size=\"14.00\">class = versicolor</text>\n</g>\n<!-- 9&#45;&gt;11 -->\n<g id=\"edge11\" class=\"edge\">\n<title>9&#45;&gt;11</title>\n<path fill=\"none\" stroke=\"black\" d=\"M362.89,-222.91C363.17,-214.56 363.48,-205.67 363.77,-197.02\"/>\n<polygon fill=\"black\" stroke=\"black\" points=\"367.27,-197.13 364.11,-187.02 360.27,-196.9 367.27,-197.13\"/>\n</g>\n<!-- 12 -->\n<g id=\"node13\" class=\"node\">\n<title>12</title>\n<path fill=\"#39e581\" stroke=\"black\" d=\"M347,-68C347,-68 250,-68 250,-68 244,-68 238,-62 238,-56 238,-56 238,-12 238,-12 238,-6 244,0 250,0 250,0 347,0 347,0 353,0 359,-6 359,-12 359,-12 359,-56 359,-56 359,-62 353,-68 347,-68\"/>\n<text text-anchor=\"start\" x=\"270.5\" y=\"-52.8\" font-family=\"Helvetica,sans-Serif\" font-size=\"14.00\">gini = 0.0</text>\n<text text-anchor=\"start\" x=\"261\" y=\"-37.8\" font-family=\"Helvetica,sans-Serif\" font-size=\"14.00\">samples = 2</text>\n<text text-anchor=\"start\" x=\"251.5\" y=\"-22.8\" font-family=\"Helvetica,sans-Serif\" font-size=\"14.00\">value = [0, 2, 0]</text>\n<text text-anchor=\"start\" x=\"246\" y=\"-7.8\" font-family=\"Helvetica,sans-Serif\" font-size=\"14.00\">class = versicolor</text>\n</g>\n<!-- 11&#45;&gt;12 -->\n<g id=\"edge12\" class=\"edge\">\n<title>11&#45;&gt;12</title>\n<path fill=\"none\" stroke=\"black\" d=\"M340.55,-103.73C335.19,-94.97 329.52,-85.7 324.14,-76.91\"/>\n<polygon fill=\"black\" stroke=\"black\" points=\"327.08,-75 318.88,-68.3 321.11,-78.66 327.08,-75\"/>\n</g>\n<!-- 13 -->\n<g id=\"node14\" class=\"node\">\n<title>13</title>\n<path fill=\"#8139e5\" stroke=\"black\" d=\"M478,-68C478,-68 389,-68 389,-68 383,-68 377,-62 377,-56 377,-56 377,-12 377,-12 377,-6 383,0 389,0 389,0 478,0 478,0 484,0 490,-6 490,-12 490,-12 490,-56 490,-56 490,-62 484,-68 478,-68\"/>\n<text text-anchor=\"start\" x=\"405.5\" y=\"-52.8\" font-family=\"Helvetica,sans-Serif\" font-size=\"14.00\">gini = 0.0</text>\n<text text-anchor=\"start\" x=\"396\" y=\"-37.8\" font-family=\"Helvetica,sans-Serif\" font-size=\"14.00\">samples = 1</text>\n<text text-anchor=\"start\" x=\"386.5\" y=\"-22.8\" font-family=\"Helvetica,sans-Serif\" font-size=\"14.00\">value = [0, 0, 1]</text>\n<text text-anchor=\"start\" x=\"385\" y=\"-7.8\" font-family=\"Helvetica,sans-Serif\" font-size=\"14.00\">class = virginica</text>\n</g>\n<!-- 11&#45;&gt;13 -->\n<g id=\"edge13\" class=\"edge\">\n<title>11&#45;&gt;13</title>\n<path fill=\"none\" stroke=\"black\" d=\"M390.82,-103.73C396.26,-94.97 402.01,-85.7 407.48,-76.91\"/>\n<polygon fill=\"black\" stroke=\"black\" points=\"410.52,-78.64 412.82,-68.3 404.57,-74.95 410.52,-78.64\"/>\n</g>\n<!-- 15 -->\n<g id=\"node16\" class=\"node\">\n<title>15</title>\n<path fill=\"#c09cf2\" stroke=\"black\" d=\"M596,-306C596,-306 471,-306 471,-306 465,-306 459,-300 459,-294 459,-294 459,-235 459,-235 459,-229 465,-223 471,-223 471,-223 596,-223 596,-223 602,-223 608,-229 608,-235 608,-235 608,-294 608,-294 608,-300 602,-306 596,-306\"/>\n<text text-anchor=\"start\" x=\"467\" y=\"-290.8\" font-family=\"Helvetica,sans-Serif\" font-size=\"14.00\">sepal width (cm) ≤ 3.1</text>\n<text text-anchor=\"start\" x=\"498\" y=\"-275.8\" font-family=\"Helvetica,sans-Serif\" font-size=\"14.00\">gini = 0.444</text>\n<text text-anchor=\"start\" x=\"496\" y=\"-260.8\" font-family=\"Helvetica,sans-Serif\" font-size=\"14.00\">samples = 3</text>\n<text text-anchor=\"start\" x=\"486.5\" y=\"-245.8\" font-family=\"Helvetica,sans-Serif\" font-size=\"14.00\">value = [0, 1, 2]</text>\n<text text-anchor=\"start\" x=\"485\" y=\"-230.8\" font-family=\"Helvetica,sans-Serif\" font-size=\"14.00\">class = virginica</text>\n</g>\n<!-- 14&#45;&gt;15 -->\n<g id=\"edge15\" class=\"edge\">\n<title>14&#45;&gt;15</title>\n<path fill=\"none\" stroke=\"black\" d=\"M534.81,-341.91C534.66,-333.56 534.51,-324.67 534.36,-316.02\"/>\n<polygon fill=\"black\" stroke=\"black\" points=\"537.86,-315.96 534.19,-306.02 530.86,-316.08 537.86,-315.96\"/>\n</g>\n<!-- 18 -->\n<g id=\"node19\" class=\"node\">\n<title>18</title>\n<path fill=\"#8139e5\" stroke=\"black\" d=\"M731,-298.5C731,-298.5 638,-298.5 638,-298.5 632,-298.5 626,-292.5 626,-286.5 626,-286.5 626,-242.5 626,-242.5 626,-236.5 632,-230.5 638,-230.5 638,-230.5 731,-230.5 731,-230.5 737,-230.5 743,-236.5 743,-242.5 743,-242.5 743,-286.5 743,-286.5 743,-292.5 737,-298.5 731,-298.5\"/>\n<text text-anchor=\"start\" x=\"656.5\" y=\"-283.3\" font-family=\"Helvetica,sans-Serif\" font-size=\"14.00\">gini = 0.0</text>\n<text text-anchor=\"start\" x=\"643.5\" y=\"-268.3\" font-family=\"Helvetica,sans-Serif\" font-size=\"14.00\">samples = 32</text>\n<text text-anchor=\"start\" x=\"634\" y=\"-253.3\" font-family=\"Helvetica,sans-Serif\" font-size=\"14.00\">value = [0, 0, 32]</text>\n<text text-anchor=\"start\" x=\"636\" y=\"-238.3\" font-family=\"Helvetica,sans-Serif\" font-size=\"14.00\">class = virginica</text>\n</g>\n<!-- 14&#45;&gt;18 -->\n<g id=\"edge18\" class=\"edge\">\n<title>14&#45;&gt;18</title>\n<path fill=\"none\" stroke=\"black\" d=\"M587.19,-341.91C602.37,-329.99 618.95,-316.98 634.04,-305.12\"/>\n<polygon fill=\"black\" stroke=\"black\" points=\"636.56,-307.6 642.26,-298.67 632.24,-302.09 636.56,-307.6\"/>\n</g>\n<!-- 16 -->\n<g id=\"node17\" class=\"node\">\n<title>16</title>\n<path fill=\"#8139e5\" stroke=\"black\" d=\"M575,-179.5C575,-179.5 486,-179.5 486,-179.5 480,-179.5 474,-173.5 474,-167.5 474,-167.5 474,-123.5 474,-123.5 474,-117.5 480,-111.5 486,-111.5 486,-111.5 575,-111.5 575,-111.5 581,-111.5 587,-117.5 587,-123.5 587,-123.5 587,-167.5 587,-167.5 587,-173.5 581,-179.5 575,-179.5\"/>\n<text text-anchor=\"start\" x=\"502.5\" y=\"-164.3\" font-family=\"Helvetica,sans-Serif\" font-size=\"14.00\">gini = 0.0</text>\n<text text-anchor=\"start\" x=\"493\" y=\"-149.3\" font-family=\"Helvetica,sans-Serif\" font-size=\"14.00\">samples = 2</text>\n<text text-anchor=\"start\" x=\"483.5\" y=\"-134.3\" font-family=\"Helvetica,sans-Serif\" font-size=\"14.00\">value = [0, 0, 2]</text>\n<text text-anchor=\"start\" x=\"482\" y=\"-119.3\" font-family=\"Helvetica,sans-Serif\" font-size=\"14.00\">class = virginica</text>\n</g>\n<!-- 15&#45;&gt;16 -->\n<g id=\"edge16\" class=\"edge\">\n<title>15&#45;&gt;16</title>\n<path fill=\"none\" stroke=\"black\" d=\"M532.46,-222.91C532.18,-212.2 531.89,-200.62 531.61,-189.78\"/>\n<polygon fill=\"black\" stroke=\"black\" points=\"535.11,-189.57 531.35,-179.67 528.11,-189.75 535.11,-189.57\"/>\n</g>\n<!-- 17 -->\n<g id=\"node18\" class=\"node\">\n<title>17</title>\n<path fill=\"#39e581\" stroke=\"black\" d=\"M714,-179.5C714,-179.5 617,-179.5 617,-179.5 611,-179.5 605,-173.5 605,-167.5 605,-167.5 605,-123.5 605,-123.5 605,-117.5 611,-111.5 617,-111.5 617,-111.5 714,-111.5 714,-111.5 720,-111.5 726,-117.5 726,-123.5 726,-123.5 726,-167.5 726,-167.5 726,-173.5 720,-179.5 714,-179.5\"/>\n<text text-anchor=\"start\" x=\"637.5\" y=\"-164.3\" font-family=\"Helvetica,sans-Serif\" font-size=\"14.00\">gini = 0.0</text>\n<text text-anchor=\"start\" x=\"628\" y=\"-149.3\" font-family=\"Helvetica,sans-Serif\" font-size=\"14.00\">samples = 1</text>\n<text text-anchor=\"start\" x=\"618.5\" y=\"-134.3\" font-family=\"Helvetica,sans-Serif\" font-size=\"14.00\">value = [0, 1, 0]</text>\n<text text-anchor=\"start\" x=\"613\" y=\"-119.3\" font-family=\"Helvetica,sans-Serif\" font-size=\"14.00\">class = versicolor</text>\n</g>\n<!-- 15&#45;&gt;17 -->\n<g id=\"edge17\" class=\"edge\">\n<title>15&#45;&gt;17</title>\n<path fill=\"none\" stroke=\"black\" d=\"M579.3,-222.91C592.62,-211.1 607.15,-198.22 620.43,-186.45\"/>\n<polygon fill=\"black\" stroke=\"black\" points=\"622.92,-188.92 628.08,-179.67 618.28,-183.68 622.92,-188.92\"/>\n</g>\n</g>\n</svg>\n",
            "text/plain": [
              "<graphviz.sources.Source at 0x7e50811d8170>"
            ]
          },
          "metadata": {},
          "execution_count": 5
        }
      ]
    },
    {
      "cell_type": "markdown",
      "source": [
        "# **Q21. Write a Python program to train a Decision Tree Classifier with a maximum depth of 3 and compare its accuracy with a fully grown tree.**"
      ],
      "metadata": {
        "id": "itgpHXmfhjOb"
      }
    },
    {
      "cell_type": "code",
      "source": [
        "# Q21. Train a Decision Tree Classifier with max_depth=3\n",
        "# and compare its accuracy with a fully grown tree\n",
        "\n",
        "from sklearn.datasets import load_iris\n",
        "from sklearn.model_selection import train_test_split\n",
        "from sklearn.tree import DecisionTreeClassifier\n",
        "from sklearn.metrics import accuracy_score\n",
        "\n",
        "# 1. Load dataset\n",
        "iris = load_iris()\n",
        "X, y = iris.data, iris.target\n",
        "\n",
        "# 2. Split dataset (80% train, 20% test)\n",
        "X_train, X_test, y_train, y_test = train_test_split(X, y, test_size=0.2, random_state=42)\n",
        "\n",
        "# 3. Decision Tree with max_depth=3\n",
        "clf_shallow = DecisionTreeClassifier(max_depth=3, random_state=42)\n",
        "clf_shallow.fit(X_train, y_train)\n",
        "y_pred_shallow = clf_shallow.predict(X_test)\n",
        "accuracy_shallow = accuracy_score(y_test, y_pred_shallow)\n",
        "\n",
        "# 4. Fully grown Decision Tree (no depth limit)\n",
        "clf_full = DecisionTreeClassifier(random_state=42)\n",
        "clf_full.fit(X_train, y_train)\n",
        "y_pred_full = clf_full.predict(X_test)\n",
        "accuracy_full = accuracy_score(y_test, y_pred_full)\n",
        "\n",
        "# 5. Print results\n",
        "print(\"Decision Tree (max_depth=3) Accuracy:\", accuracy_shallow)\n",
        "print(\"Decision Tree (fully grown) Accuracy:\", accuracy_full)\n"
      ],
      "metadata": {
        "id": "0PwdTHIphn7q",
        "colab": {
          "base_uri": "https://localhost:8080/"
        },
        "outputId": "1756d6e8-9d80-4881-f446-0f0b5d51ff64"
      },
      "execution_count": null,
      "outputs": [
        {
          "output_type": "stream",
          "name": "stdout",
          "text": [
            "Decision Tree (max_depth=3) Accuracy: 1.0\n",
            "Decision Tree (fully grown) Accuracy: 1.0\n"
          ]
        }
      ]
    },
    {
      "cell_type": "markdown",
      "source": [
        "# **Q22. Write a Python program to train a Decision Tree Classifier using min_samples_split=5 and compare its accuracy with a default tree.**"
      ],
      "metadata": {
        "id": "96BR5WnAjKHE"
      }
    },
    {
      "cell_type": "code",
      "source": [
        "# Q22. Train a Decision Tree Classifier with min_samples_split=5\n",
        "# and compare its accuracy with a default tree\n",
        "\n",
        "from sklearn.datasets import load_iris\n",
        "from sklearn.model_selection import train_test_split\n",
        "from sklearn.tree import DecisionTreeClassifier\n",
        "from sklearn.metrics import accuracy_score\n",
        "\n",
        "# 1. Load dataset\n",
        "iris = load_iris()\n",
        "X, y = iris.data, iris.target\n",
        "\n",
        "# 2. Split dataset (80% train, 20% test)\n",
        "X_train, X_test, y_train, y_test = train_test_split(X, y, test_size=0.2, random_state=42)\n",
        "\n",
        "# 3. Default Decision Tree\n",
        "clf_default = DecisionTreeClassifier(random_state=42)\n",
        "clf_default.fit(X_train, y_train)\n",
        "y_pred_default = clf_default.predict(X_test)\n",
        "accuracy_default = accuracy_score(y_test, y_pred_default)\n",
        "\n",
        "# 4. Decision Tree with min_samples_split=5\n",
        "clf_split5 = DecisionTreeClassifier(min_samples_split=5, random_state=42)\n",
        "clf_split5.fit(X_train, y_train)\n",
        "y_pred_split5 = clf_split5.predict(X_test)\n",
        "accuracy_split5 = accuracy_score(y_test, y_pred_split5)\n",
        "\n",
        "# 5. Print results\n",
        "print(\"Decision Tree (default) Accuracy:\", accuracy_default)\n",
        "print(\"Decision Tree (min_samples_split=5) Accuracy:\", accuracy_split5)\n"
      ],
      "metadata": {
        "colab": {
          "base_uri": "https://localhost:8080/"
        },
        "id": "_9lVXGe-jPDT",
        "outputId": "e412aaef-01e9-468f-ea04-6a8c0e51b73c"
      },
      "execution_count": null,
      "outputs": [
        {
          "output_type": "stream",
          "name": "stdout",
          "text": [
            "Decision Tree (default) Accuracy: 1.0\n",
            "Decision Tree (min_samples_split=5) Accuracy: 1.0\n"
          ]
        }
      ]
    },
    {
      "cell_type": "markdown",
      "source": [
        "# **Q23. Write a Python program to apply feature scaling before training a Decision Tree Classifier and compare its accuracy with unscaled data.**"
      ],
      "metadata": {
        "id": "0oYEJiJXje_3"
      }
    },
    {
      "cell_type": "code",
      "source": [
        "# Q23. Apply feature scaling before training a Decision Tree Classifier\n",
        "# and compare its accuracy with unscaled data\n",
        "\n",
        "from sklearn.datasets import load_iris\n",
        "from sklearn.model_selection import train_test_split\n",
        "from sklearn.preprocessing import StandardScaler\n",
        "from sklearn.tree import DecisionTreeClassifier\n",
        "from sklearn.metrics import accuracy_score\n",
        "\n",
        "# 1. Load dataset\n",
        "iris = load_iris()\n",
        "X, y = iris.data, iris.target\n",
        "\n",
        "# 2. Train/Test Split\n",
        "X_train, X_test, y_train, y_test = train_test_split(X, y, test_size=0.2, random_state=42)\n",
        "\n",
        "\n",
        "# Model 1: Without Feature Scaling\n",
        "\n",
        "clf_unscaled = DecisionTreeClassifier(random_state=42)\n",
        "clf_unscaled.fit(X_train, y_train)\n",
        "y_pred_unscaled = clf_unscaled.predict(X_test)\n",
        "accuracy_unscaled = accuracy_score(y_test, y_pred_unscaled)\n",
        "\n",
        "# Model 2: With Feature Scaling\n",
        "\n",
        "scaler = StandardScaler()\n",
        "X_train_scaled = scaler.fit_transform(X_train)\n",
        "X_test_scaled = scaler.transform(X_test)\n",
        "\n",
        "clf_scaled = DecisionTreeClassifier(random_state=42)\n",
        "clf_scaled.fit(X_train_scaled, y_train)\n",
        "y_pred_scaled = clf_scaled.predict(X_test_scaled)\n",
        "accuracy_scaled = accuracy_score(y_test, y_pred_scaled)\n",
        "\n",
        "# Results\n",
        "\n",
        "print(\"Decision Tree Accuracy (Unscaled Data):\", accuracy_unscaled)\n",
        "print(\"Decision Tree Accuracy (Scaled Data):\", accuracy_scaled)\n"
      ],
      "metadata": {
        "id": "EmHvYqZtjna3",
        "colab": {
          "base_uri": "https://localhost:8080/"
        },
        "outputId": "8a793d0b-adb5-4405-b833-581bc506d02b"
      },
      "execution_count": 6,
      "outputs": [
        {
          "output_type": "stream",
          "name": "stdout",
          "text": [
            "Decision Tree Accuracy (Unscaled Data): 1.0\n",
            "Decision Tree Accuracy (Scaled Data): 1.0\n"
          ]
        }
      ]
    },
    {
      "cell_type": "markdown",
      "source": [
        "# **Q24. Write a Python program to train a Decision Tree Classifier using One-vs-Rest (OvR) strategy for multiclass classification.**"
      ],
      "metadata": {
        "id": "wufQOol5lhhg"
      }
    },
    {
      "cell_type": "code",
      "source": [
        "# Install libraries if needed\n",
        "# !pip install scikit-learn\n",
        "\n",
        "from sklearn.datasets import load_iris\n",
        "from sklearn.model_selection import train_test_split\n",
        "from sklearn.tree import DecisionTreeClassifier\n",
        "from sklearn.multiclass import OneVsRestClassifier\n",
        "from sklearn.metrics import accuracy_score, classification_report\n",
        "\n",
        "# Load dataset (Iris = 3-class problem)\n",
        "iris = load_iris()\n",
        "X = iris.data\n",
        "y = iris.target\n",
        "\n",
        "# Split into train/test\n",
        "X_train, X_test, y_train, y_test = train_test_split(\n",
        "    X, y, test_size=0.2, random_state=42\n",
        ")\n",
        "\n",
        "# Wrap Decision Tree with One-vs-Rest strategy\n",
        "ovr_clf = OneVsRestClassifier(DecisionTreeClassifier(random_state=42))\n",
        "\n",
        "# Train model\n",
        "ovr_clf.fit(X_train, y_train)\n",
        "\n",
        "# Predictions\n",
        "y_pred = ovr_clf.predict(X_test)\n",
        "\n",
        "# Accuracy\n",
        "print(\"Accuracy:\", accuracy_score(y_test, y_pred))\n",
        "\n",
        "# Detailed report\n",
        "print(\"\\nClassification Report:\")\n",
        "print(classification_report(y_test, y_pred, target_names=iris.target_names))"
      ],
      "metadata": {
        "colab": {
          "base_uri": "https://localhost:8080/"
        },
        "id": "_v0pYotOm89m",
        "outputId": "f647bf0d-b7af-4272-9ca3-45a1cce1a890"
      },
      "execution_count": 12,
      "outputs": [
        {
          "output_type": "stream",
          "name": "stdout",
          "text": [
            "Accuracy: 1.0\n",
            "\n",
            "Classification Report:\n",
            "              precision    recall  f1-score   support\n",
            "\n",
            "      setosa       1.00      1.00      1.00        10\n",
            "  versicolor       1.00      1.00      1.00         9\n",
            "   virginica       1.00      1.00      1.00        11\n",
            "\n",
            "    accuracy                           1.00        30\n",
            "   macro avg       1.00      1.00      1.00        30\n",
            "weighted avg       1.00      1.00      1.00        30\n",
            "\n"
          ]
        }
      ]
    },
    {
      "cell_type": "markdown",
      "source": [
        "# **Q25. Write a Python program to train a Decision Tree Classifier and display the feature importance scores.**"
      ],
      "metadata": {
        "id": "i8EYVkVsmAhO"
      }
    },
    {
      "cell_type": "code",
      "source": [
        "# Import necessary libraries\n",
        "from sklearn.datasets import load_iris\n",
        "from sklearn.model_selection import train_test_split\n",
        "from sklearn.tree import DecisionTreeClassifier\n",
        "from sklearn.metrics import accuracy_score\n",
        "import numpy as np\n",
        "import matplotlib.pyplot as plt\n",
        "\n",
        "# Load the Iris dataset\n",
        "iris = load_iris()\n",
        "X = iris.data\n",
        "y = iris.target\n",
        "feature_names = iris.feature_names\n",
        "\n",
        "# Split the dataset into training and testing sets\n",
        "X_train, X_test, y_train, y_test = train_test_split(X, y, test_size=0.2, random_state=42)\n",
        "\n",
        "# Create a Decision Tree Classifier\n",
        "clf = DecisionTreeClassifier(random_state=42)\n",
        "\n",
        "# Train the model on the training data\n",
        "clf.fit(X_train, y_train)\n",
        "\n",
        "# Make predictions on the testing data\n",
        "y_pred = clf.predict(X_test)\n",
        "\n",
        "# Evaluate the model\n",
        "accuracy = accuracy_score(y_test, y_pred)\n",
        "print(\"Accuracy:\", accuracy)\n",
        "\n",
        "# Get the feature importance scores\n",
        "feature_importances = clf.feature_importances_\n",
        "print(\"Feature Importances:\")\n",
        "for feature, importance in zip(feature_names, feature_importances):\n",
        "    print(f\"{feature}: {importance:.2f}\")\n",
        "\n",
        "# Plot the feature importance scores\n",
        "plt.barh(feature_names, feature_importances)\n",
        "plt.xlabel(\"Feature Importance\")\n",
        "plt.ylabel(\"Feature\")\n",
        "plt.title(\"Feature Importance Scores\")\n",
        "plt.show()"
      ],
      "metadata": {
        "colab": {
          "base_uri": "https://localhost:8080/",
          "height": 576
        },
        "id": "nRiK2-MWmf0a",
        "outputId": "59fd5b2b-b240-4232-cc7c-54582cdaca59"
      },
      "execution_count": 10,
      "outputs": [
        {
          "output_type": "stream",
          "name": "stdout",
          "text": [
            "Accuracy: 1.0\n",
            "Feature Importances:\n",
            "sepal length (cm): 0.00\n",
            "sepal width (cm): 0.02\n",
            "petal length (cm): 0.91\n",
            "petal width (cm): 0.08\n"
          ]
        },
        {
          "output_type": "display_data",
          "data": {
            "text/plain": [
              "<Figure size 640x480 with 1 Axes>"
            ],
            "image/png": "[encoded data removed]"
          },
          "metadata": {}
        }
      ]
    },
    {
      "cell_type": "markdown",
      "source": [
        "# **Q26. Write a Python program to train a Decision Tree Regressor with max_depth=5 and compare its performance with an unrestricted tree.**\n",
        "\n"
      ],
      "metadata": {
        "id": "DoYCdFFznINx"
      }
    },
    {
      "cell_type": "code",
      "source": [
        "# Import necessary libraries\n",
        "#from sklearn.datasets import load_boston # This line is causing the error\n",
        "from sklearn.datasets import fetch_california_housing # Use this instead\n",
        "from sklearn.model_selection import train_test_split\n",
        "from sklearn.tree import DecisionTreeRegressor\n",
        "from sklearn.metrics import mean_squared_error, mean_absolute_error, r2_score\n",
        "import numpy as np\n",
        "\n",
        "# Load the California housing dataset instead of the Boston housing dataset\n",
        "#boston = load_boston() # This line is causing the error\n",
        "housing = fetch_california_housing() # Use this instead\n",
        "X = housing.data\n",
        "y = housing.target\n",
        "\n",
        "# Split the dataset into training and testing sets\n",
        "X_train, X_test, y_train, y_test = train_test_split(X, y, test_size=0.2, random_state=42)\n",
        "\n",
        "# Create a Decision Tree Regressor with max_depth=5\n",
        "dtr_depth_5 = DecisionTreeRegressor(max_depth=5, random_state=42)\n",
        "\n",
        "# Create an unrestricted Decision Tree Regressor\n",
        "dtr_unrestricted = DecisionTreeRegressor(random_state=42)\n",
        "\n",
        "# Train the models on the training data\n",
        "dtr_depth_5.fit(X_train, y_train)\n",
        "dtr_unrestricted.fit(X_train, y_train)\n",
        "\n",
        "# Make predictions on the testing data\n",
        "y_pred_depth_5 = dtr_depth_5.predict(X_test)\n",
        "y_pred_unrestricted = dtr_unrestricted.predict(X_test)\n",
        "\n",
        "# Evaluate the models\n",
        "mse_depth_5 = mean_squared_error(y_test, y_pred_depth_5)\n",
        "mse_unrestricted = mean_squared_error(y_test, y_pred_unrestricted)\n",
        "mae_depth_5 = mean_absolute_error(y_test, y_pred_depth_5)\n",
        "mae_unrestricted = mean_absolute_error(y_test, y_pred_unrestricted)\n",
        "r2_depth_5 = r2_score(y_test, y_pred_depth_5)\n",
        "r2_unrestricted = r2_score(y_test, y_pred_unrestricted)\n",
        "\n",
        "print(\"Decision Tree Regressor with max_depth=5:\")\n",
        "print(f\"MSE: {mse_depth_5:.2f}\")\n",
        "print(f\"MAE: {mae_depth_5:.2f}\")\n",
        "print(f\"R2 Score: {r2_depth_5:.2f}\")\n",
        "\n",
        "print(\"\\nUnrestricted Decision Tree Regressor:\")\n",
        "print(f\"MSE: {mse_unrestricted:.2f}\")\n",
        "print(f\"MAE: {mae_unrestricted:.2f}\")\n",
        "print(f\"R2 Score: {r2_unrestricted:.2f}\")\n"
      ],
      "metadata": {
        "colab": {
          "base_uri": "https://localhost:8080/"
        },
        "id": "CJ9Hnw_NnOvV",
        "outputId": "2c094fb1-3dd4-4348-bf89-4a267c6dddee"
      },
      "execution_count": 13,
      "outputs": [
        {
          "output_type": "stream",
          "name": "stdout",
          "text": [
            "Decision Tree Regressor with max_depth=5:\n",
            "MSE: 0.52\n",
            "MAE: 0.52\n",
            "R2 Score: 0.60\n",
            "\n",
            "Unrestricted Decision Tree Regressor:\n",
            "MSE: 0.50\n",
            "MAE: 0.45\n",
            "R2 Score: 0.62\n"
          ]
        }
      ]
    },
    {
      "cell_type": "markdown",
      "source": [
        "# **Q27. Write a Python program to train a Decision Tree Classifier, apply Cost Complexity Pruning (CCP), and visualize its effect on accuracy.**"
      ],
      "metadata": {
        "id": "f44J_jb1n7-d"
      }
    },
    {
      "cell_type": "code",
      "source": [
        "import matplotlib.pyplot as plt\n",
        "from sklearn.datasets import load_iris\n",
        "from sklearn.model_selection import train_test_split\n",
        "from sklearn.tree import DecisionTreeClassifier\n",
        "\n",
        "# 1. Load dataset\n",
        "iris = load_iris()\n",
        "X, y = iris.data, iris.target\n",
        "\n",
        "# 2. Train/Test split\n",
        "X_train, X_test, y_train, y_test = train_test_split(\n",
        "    X, y, test_size=0.3, random_state=42\n",
        ")\n",
        "\n",
        "# 3. Train initial Decision Tree\n",
        "clf = DecisionTreeClassifier(random_state=42)\n",
        "clf.fit(X_train, y_train)\n",
        "\n",
        "# 4. Get effective alphas for pruning\n",
        "path = clf.cost_complexity_pruning_path(X_train, y_train)\n",
        "ccp_alphas, impurities = path.ccp_alphas, path.impurities\n",
        "\n",
        "# 5. Train trees with different ccp_alpha values\n",
        "clfs = []\n",
        "for ccp_alpha in ccp_alphas:\n",
        "    dt = DecisionTreeClassifier(random_state=42, ccp_alpha=ccp_alpha)\n",
        "    dt.fit(X_train, y_train)\n",
        "    clfs.append(dt)\n",
        "\n",
        "# Remove the last tree (single-node root only)\n",
        "clfs = clfs[:-1]\n",
        "ccp_alphas = ccp_alphas[:-1]\n",
        "\n",
        "# 6. Collect train/test accuracy for each alpha\n",
        "train_scores = [clf.score(X_train, y_train) for clf in clfs]\n",
        "test_scores = [clf.score(X_test, y_test) for clf in clfs]\n",
        "\n",
        "# 7. Plot accuracy vs. alpha\n",
        "plt.figure(figsize=(8, 5))\n",
        "plt.plot(ccp_alphas, train_scores, marker='o', label=\"Train Accuracy\", drawstyle=\"steps-post\")\n",
        "plt.plot(ccp_alphas, test_scores, marker='o', label=\"Test Accuracy\", drawstyle=\"steps-post\")\n",
        "plt.xlabel(\"ccp_alpha\")\n",
        "plt.ylabel(\"Accuracy\")\n",
        "plt.title(\"Effect of Cost Complexity Pruning on Accuracy\")\n",
        "plt.legend()\n",
        "plt.grid(True)\n",
        "plt.show()\n"
      ],
      "metadata": {
        "colab": {
          "base_uri": "https://localhost:8080/",
          "height": 487
        },
        "id": "yC8Ar7dTolJm",
        "outputId": "d063a88a-b16e-4cb3-98ef-40b5b89c4251"
      },
      "execution_count": 15,
      "outputs": [
        {
          "output_type": "display_data",
          "data": {
            "text/plain": [
              "<Figure size 800x500 with 1 Axes>"
            ],
            "image/png": "[encoded data removed]"
          },
          "metadata": {}
        }
      ]
    },
    {
      "cell_type": "markdown",
      "source": [
        "# **Q28. Write a Python program to train a Decision Tree Classifier and evaluate its performance using Precision, Recall, and F1-Score.**\n",
        "\n"
      ],
      "metadata": {
        "id": "uWif0BeRpMRu"
      }
    },
    {
      "cell_type": "code",
      "source": [
        "from sklearn.datasets import load_iris\n",
        "from sklearn.model_selection import train_test_split\n",
        "from sklearn.tree import DecisionTreeClassifier\n",
        "from sklearn.metrics import classification_report\n",
        "\n",
        "# 1. Load dataset\n",
        "iris = load_iris()\n",
        "X, y = iris.data, iris.target\n",
        "\n",
        "# 2. Train/Test Split\n",
        "X_train, X_test, y_train, y_test = train_test_split(\n",
        "    X, y, test_size=0.2, random_state=42\n",
        ")\n",
        "\n",
        "# 3. Train Decision Tree Classifier\n",
        "clf = DecisionTreeClassifier(criterion=\"gini\", random_state=42)\n",
        "clf.fit(X_train, y_train)\n",
        "\n",
        "# 4. Predictions\n",
        "y_pred = clf.predict(X_test)\n",
        "\n",
        "# 5. Evaluate using Precision, Recall, F1-Score\n",
        "print(\"Classification Report:\\n\")\n",
        "print(classification_report(y_test, y_pred, target_names=iris.target_names))\n"
      ],
      "metadata": {
        "colab": {
          "base_uri": "https://localhost:8080/"
        },
        "id": "y0BOC04kp5kW",
        "outputId": "061754c9-8348-4cfd-c781-341eeefa991b"
      },
      "execution_count": 17,
      "outputs": [
        {
          "output_type": "stream",
          "name": "stdout",
          "text": [
            "Classification Report:\n",
            "\n",
            "              precision    recall  f1-score   support\n",
            "\n",
            "      setosa       1.00      1.00      1.00        10\n",
            "  versicolor       1.00      1.00      1.00         9\n",
            "   virginica       1.00      1.00      1.00        11\n",
            "\n",
            "    accuracy                           1.00        30\n",
            "   macro avg       1.00      1.00      1.00        30\n",
            "weighted avg       1.00      1.00      1.00        30\n",
            "\n"
          ]
        }
      ]
    },
    {
      "cell_type": "markdown",
      "source": [
        "# **Q29. Write a Python program to train a Decision Tree Classifier and visualize the confusion matrix using seaborn.**"
      ],
      "metadata": {
        "id": "rh2SnbbLqBug"
      }
    },
    {
      "cell_type": "code",
      "source": [
        "import seaborn as sns\n",
        "import matplotlib.pyplot as plt\n",
        "from sklearn.datasets import load_iris\n",
        "from sklearn.model_selection import train_test_split\n",
        "from sklearn.tree import DecisionTreeClassifier\n",
        "from sklearn.metrics import confusion_matrix, accuracy_score\n",
        "\n",
        "# 1. Load dataset\n",
        "iris = load_iris()\n",
        "X, y = iris.data, iris.target\n",
        "\n",
        "# 2. Train/Test Split\n",
        "X_train, X_test, y_train, y_test = train_test_split(\n",
        "    X, y, test_size=0.2, random_state=42\n",
        ")\n",
        "\n",
        "# 3. Train Decision Tree Classifier\n",
        "clf = DecisionTreeClassifier(random_state=42)\n",
        "clf.fit(X_train, y_train)\n",
        "\n",
        "# 4. Predictions\n",
        "y_pred = clf.predict(X_test)\n",
        "\n",
        "# 5. Confusion Matrix\n",
        "cm = confusion_matrix(y_test, y_pred)\n",
        "\n",
        "# 6. Visualization with seaborn\n",
        "plt.figure(figsize=(6,4))\n",
        "sns.heatmap(cm, annot=True, fmt=\"d\", cmap=\"Blues\",\n",
        "            xticklabels=iris.target_names,\n",
        "            yticklabels=iris.target_names)\n",
        "\n",
        "plt.title(\"Confusion Matrix - Decision Tree Classifier\")\n",
        "plt.xlabel(\"Predicted Label\")\n",
        "plt.ylabel(\"True Label\")\n",
        "plt.show()\n",
        "\n",
        "# 7. Print Accuracy\n",
        "print(\"Model Accuracy:\", accuracy_score(y_test, y_pred))\n"
      ],
      "metadata": {
        "colab": {
          "base_uri": "https://localhost:8080/",
          "height": 427
        },
        "id": "t_iNm2ovqGYw",
        "outputId": "68410f40-98e8-4a07-c76d-98970ef58ca3"
      },
      "execution_count": 18,
      "outputs": [
        {
          "output_type": "display_data",
          "data": {
            "text/plain": [
              "<Figure size 600x400 with 2 Axes>"
            ],
            "image/png": "[encoded data removed]"
          },
          "metadata": {}
        },
        {
          "output_type": "stream",
          "name": "stdout",
          "text": [
            "Model Accuracy: 1.0\n"
          ]
        }
      ]
    },
    {
      "cell_type": "markdown",
      "source": [
        "# **Q30. Write a Python program to train a Decision Tree Classifier and use GridSearchCV to find the optimal values for max_depth and min_samples_split.**"
      ],
      "metadata": {
        "id": "Zxf2RWwbqpJa"
      }
    },
    {
      "cell_type": "code",
      "source": [
        "from sklearn.datasets import load_iris\n",
        "from sklearn.model_selection import train_test_split, GridSearchCV\n",
        "from sklearn.tree import DecisionTreeClassifier\n",
        "from sklearn.metrics import accuracy_score\n",
        "\n",
        "# 1. Load dataset\n",
        "iris = load_iris()\n",
        "X, y = iris.data, iris.target\n",
        "\n",
        "# 2. Train/Test Split\n",
        "X_train, X_test, y_train, y_test = train_test_split(\n",
        "    X, y, test_size=0.2, random_state=42\n",
        ")\n",
        "\n",
        "# 3. Define model\n",
        "clf = DecisionTreeClassifier(random_state=42)\n",
        "\n",
        "# 4. Define parameter grid for GridSearchCV\n",
        "param_grid = {\n",
        "    \"max_depth\": [2, 3, 4, 5, 6, None],\n",
        "    \"min_samples_split\": [2, 4, 6, 8, 10]\n",
        "}\n",
        "\n",
        "# 5. Apply GridSearchCV\n",
        "grid_search = GridSearchCV(\n",
        "    estimator=clf,\n",
        "    param_grid=param_grid,\n",
        "    cv=5,  # 5-fold cross-validation\n",
        "    scoring=\"accuracy\",\n",
        "    n_jobs=-1\n",
        ")\n",
        "\n",
        "grid_search.fit(X_train, y_train)\n",
        "\n",
        "# 6. Get best parameters and model\n",
        "best_params = grid_search.best_params_\n",
        "best_model = grid_search.best_estimator_\n",
        "\n",
        "# 7. Evaluate on test set\n",
        "y_pred = best_model.predict(X_test)\n",
        "accuracy = accuracy_score(y_test, y_pred)\n",
        "\n",
        "print(\"Best Parameters found:\", best_params)\n",
        "print(\"Best Cross-Validation Accuracy:\", grid_search.best_score_)\n",
        "print(\"Test Accuracy with Best Model:\", accuracy)\n"
      ],
      "metadata": {
        "colab": {
          "base_uri": "https://localhost:8080/"
        },
        "id": "OxPm45DNq-yV",
        "outputId": "0744749c-9e28-482e-b5c7-304d58780ea9"
      },
      "execution_count": 20,
      "outputs": [
        {
          "output_type": "stream",
          "name": "stdout",
          "text": [
            "Best Parameters found: {'max_depth': 4, 'min_samples_split': 2}\n",
            "Best Cross-Validation Accuracy: 0.9416666666666668\n",
            "Test Accuracy with Best Model: 1.0\n"
          ]
        }
      ]
    }
  ]
}